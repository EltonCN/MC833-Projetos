{
  "cells": [
    {
      "attachments": {},
      "cell_type": "markdown",
      "metadata": {},
      "source": [
        "233840 - Elton Cardoso do Nascimento\n",
        "\n",
        "\n",
        "201270 - Leonardo Rener de Oliveira\n"
      ]
    },
    {
      "attachments": {},
      "cell_type": "markdown",
      "metadata": {
        "id": "wk2Ji05rfyWz"
      },
      "source": [
        "# Guia para a aula experimental\n",
        "\n",
        "Nesse guia trataremos passo a passo a conexão de um dispositivo com a plataforma Konker.\n",
        "Para seguir esse roteiro, você precisará de uma conta na Konker, que pode ser criada em https://demo.konkerlabs.net/ e, caso deseje trabalhar com o kit disponibilizado para vocês, será necessário baixar a Arduino IDE e adicionar o suporte a placa de desenvolvimento **NodeMCU**, além de instalar as bibliotecas **PubSubClient** e **ArduinoJSON**, caso você esteja fazendo essa atividade em um PC pessoal. Nesse caso, um guia de instalação da placa pode ser visto na referência https://www.filipeflop.com/blog/programar-nodemcu-com-ide-arduino/ enquanto a instalação das bibliotecas pode ser feita sem dificuldades buscando pelo nome das mesmas na caixa aberta ao selecionar o menu **Sketch** -> **Incluir Biblioteca** -> **Gerenciar Bibliotecas**.\n",
        "\n",
        "**Se essa tarefa estiver sendo realizada dentro do laboratório da diciplina, não é necessário a instalação da IDE nem mesmo das bibliotecas.**"
      ]
    },
    {
      "attachments": {},
      "cell_type": "markdown",
      "metadata": {
        "id": "eM2BqFta24pq"
      },
      "source": [
        "##**Importante:** para salvar esse guia você deve fazer login em uma conta do Google e clicar em *Arquivo* -> *Salvar uma cópia no Drive*. A entrega da atividade deve ser feita em PDF, logo, ao terminar de fazer a atividade e preencher suas respostas você pode imprimir esse guia diretamente para um arquivo PDF clicando em *Arquivo* -> *Imprimir* -> *Destino: Salvar como PDF*.\n",
        "##**Antes de imprimir em PDF, lembre-se de apagar suas credenciais da plataforma do texto**."
      ]
    },
    {
      "attachments": {},
      "cell_type": "markdown",
      "metadata": {
        "id": "zCF-n-XJfyW4"
      },
      "source": [
        "Vamos iniciar nosso notebook chamando todas as bibliotecas que usaremos. Nessa etapa, nada precisa ser modificado."
      ]
    },
    {
      "attachments": {},
      "cell_type": "markdown",
      "metadata": {},
      "source": [
        "!pip install arrow bokeh paho.mqtt\n"
      ]
    },
    {
      "cell_type": "code",
      "execution_count": 1,
      "metadata": {
        "id": "qwDYCU29fyW4"
      },
      "outputs": [],
      "source": [
        "from oauthlib.oauth2 import BackendApplicationClient\n",
        "from requests_oauthlib import OAuth2Session\n",
        "import pprint\n",
        "import numpy as np\n",
        "import arrow\n",
        "import requests\n",
        "import json\n",
        "from threading import Timer"
      ]
    },
    {
      "attachments": {},
      "cell_type": "markdown",
      "metadata": {
        "id": "k3FXRKjCfyW6"
      },
      "source": [
        "O próximo passo é definir os endereços que serão usados para consultar e enviar os dados. Nessa etapa ainda não é necessário fazer modificações."
      ]
    },
    {
      "cell_type": "code",
      "execution_count": 2,
      "metadata": {
        "id": "b36dwxwYfyW6"
      },
      "outputs": [],
      "source": [
        "#Url de publicacao dos dados\n",
        "pub_url = 'https://data.demo.konkerlabs.net/pub/'\n",
        "#Url da API\n",
        "base_api = 'https://api.demo.konkerlabs.net'\n",
        "#Application padrão\n",
        "application = 'default'"
      ]
    },
    {
      "attachments": {},
      "cell_type": "markdown",
      "metadata": {
        "id": "vf87ukZdfyW7"
      },
      "source": [
        "Agora vamos colocar em duas variáveis o seu usuário e senha da plataforma\n",
        "\n",
        "(seu email e senha que você criou quando abriu conta na plataforma):"
      ]
    },
    {
      "cell_type": "code",
      "execution_count": 3,
      "metadata": {
        "id": "YMbwEgHjfyW7"
      },
      "outputs": [],
      "source": [
        "username = \"\"\n",
        "password = \"\""
      ]
    },
    {
      "attachments": {},
      "cell_type": "markdown",
      "metadata": {
        "id": "Aa3FMnnSfyW8"
      },
      "source": [
        "O próximo passo é criar o dispositivo dentro de sua conta na Konker. Você pode criar o dispositivo com o nome de sua preferência, lembre-se apenas de modificar nas função abaixo para o nome adequado. Caso queira usar o nome *termometro*, não é necessário alterar nada na próxima célula."
      ]
    },
    {
      "cell_type": "code",
      "execution_count": 8,
      "metadata": {
        "id": "UShi-moZfyW8"
      },
      "outputs": [],
      "source": [
        "termometro_name = \"Termometro\""
      ]
    },
    {
      "attachments": {},
      "cell_type": "markdown",
      "metadata": {
        "id": "J3zMHHrYfyW9"
      },
      "source": [
        "## Usando o Kit de Hardware\n",
        "Esse é o momento de você baixar o código dos dispositivos disponível em nosso GitHub: https://github.com/KonkerLabs/arduino_examples. Você deve baixar o código **Termometro_MQTT**. Depois de baixar o código, abra o código do Termometro na Arduino IDE e mude os parâmetros de rede Wifi, canal de publicação (minha sugestão é usar *temperatura*) credenciais do dispositivo.\n",
        "\n",
        "![term](https://raw.githubusercontent.com/KonkerLabs/arduino_examples/master/Termometro_MQTT/term.jpg \"Termômetro\")\n",
        "\n",
        "Com o dispositivo montado, o próximo passo é compilar e gravar o Firmware. Lembre-se de mudar a board na Arduino IDE para **NodeMCU v1.0**.\n",
        "\n",
        "Caso tudo tenha dado certo até o momento, você começará a observar os dados sendo enviados para a plataforma. Entre na Guia de Devices e procure *Messages* do seu dispositivo termômetro. Você deve ver os dados de temperatura chegando."
      ]
    },
    {
      "attachments": {},
      "cell_type": "markdown",
      "metadata": {
        "id": "RUBo9caLfyW-"
      },
      "source": [
        "**Aguarde ao menos 1 minuto registrando a temperatura ambiente. Após isso, segure o termistor com seus dedos fazendo a temperatura subir. Mantenha o termômetro aquecido com seus dedos por ao menos 30 segundos. Por último, deixe o dispositivo capturando novamente dados de temperatura ambiente enquanto roda o restante do notebook.**"
      ]
    },
    {
      "attachments": {},
      "cell_type": "markdown",
      "metadata": {
        "id": "sI_Ivij6EEBV"
      },
      "source": [
        "## **Pergunta 1: Seguindo os passos descritos na célula acima (aguardar 1 minuto em temperatura ambiente e 30 segundos com o dedo no termistor), descreva a curva vista na aba \"Mensagens\" do dispositivo termômetro na plataforma.**"
      ]
    },
    {
      "attachments": {},
      "cell_type": "markdown",
      "metadata": {
        "id": "y4F2Q53QEezq"
      },
      "source": [
        "A curva nos primeiros 60 segundos é estável, praticamente constante. No momento em que o termistor foi segurado, ela começou a crescer rapidamente, com a taxa de variação diminuindo e a curva se tornando constante por alguns instantes. Após soltar o termistor ela caiu, se estabilizando novamente no valor mais baixo inicial."
      ]
    },
    {
      "attachments": {},
      "cell_type": "markdown",
      "metadata": {
        "id": "w9cQD67YfyW-"
      },
      "source": [
        "## Usando a API da Konker para obter os dados e analisa-los localmente\n",
        "Para iniciar esse trabalho, vamos primeiro conectar na API da Konker. A API usa OAuth2, então primeiro vamos obter as credenciais."
      ]
    },
    {
      "cell_type": "code",
      "execution_count": 5,
      "metadata": {
        "id": "u-tYcC_bfyW-"
      },
      "outputs": [],
      "source": [
        "client = BackendApplicationClient(client_id=username)\n",
        "oauth = OAuth2Session(client=client)\n",
        "token = oauth.fetch_token(token_url='{}/v1/oauth/token'.format(base_api),\n",
        "                                       client_id=username,\n",
        "                                       client_secret=password)"
      ]
    },
    {
      "attachments": {},
      "cell_type": "markdown",
      "metadata": {
        "id": "c9fgrfJvfyW_"
      },
      "source": [
        "Ótimo! Agora nos podemos começar a usar a API. Caso você queira mais detalhes de sua utilização, pode encontrar documentação em: https://api.demo.konkerlabs.net .\n",
        "\n",
        "Vamos começar listando os dispositivos registrados no seu usuário."
      ]
    },
    {
      "cell_type": "code",
      "execution_count": 6,
      "metadata": {
        "id": "dZg9TSctfyW_"
      },
      "outputs": [
        {
          "name": "stdout",
          "output_type": "stream",
          "text": [
            "{'id': 'termometro', 'name': 'Termometro', 'description': 'Termometro MC833', 'locationName': 'default', 'deviceModelName': 'default', 'active': True, 'debug': False, 'tags': [], 'guid': 'd24db1a5-c52f-4f13-98b0-21d06fd1d54c'}\n"
          ]
        }
      ],
      "source": [
        "devices = oauth.get(\"https://api.demo.konkerlabs.net/v1/{}/devices/\".format(application)).json()['result']\n",
        "for dev in devices:\n",
        "    print(dev)"
      ]
    },
    {
      "attachments": {},
      "cell_type": "markdown",
      "metadata": {
        "id": "T7ztjZzDfyXA"
      },
      "source": [
        "Vamos procurar pelo dispositivo Termometro na sua lista de dispositivos:"
      ]
    },
    {
      "cell_type": "code",
      "execution_count": 9,
      "metadata": {
        "id": "U7asCCZJfyXA"
      },
      "outputs": [
        {
          "name": "stdout",
          "output_type": "stream",
          "text": [
            "O GUID do dispositivo Termômetro é: d24db1a5-c52f-4f13-98b0-21d06fd1d54c\n"
          ]
        }
      ],
      "source": [
        "guid_term=\"\"\n",
        "for dev in devices:\n",
        "    if dev['name'] == termometro_name:\n",
        "        guid_term = dev['guid']\n",
        "\n",
        "print(\"O GUID do dispositivo Termômetro é: \"+ guid_term)"
      ]
    },
    {
      "attachments": {},
      "cell_type": "markdown",
      "metadata": {
        "id": "Phv0GOurfyXA"
      },
      "source": [
        "Caso você consiga ver o GUID do dispositivo, significa que está tudo funcionando bem. Caso o GUID não apareça, revise o nome do dispositivo no Notebook e o nome escolhido na plataforma para garantir que eles possuem a mesma grafia."
      ]
    },
    {
      "attachments": {},
      "cell_type": "markdown",
      "metadata": {
        "id": "5OdGS3nrfyXA"
      },
      "source": [
        "Agora vamos usar a API para pegar os dados enviados pelo dispositivo termômetro hoje. Caso você tenha escolhido outro canal para envio dos dados, por favor modifique a variável **canal** na próxima célula."
      ]
    },
    {
      "cell_type": "code",
      "execution_count": 10,
      "metadata": {
        "id": "0RAyXqlrfyXB"
      },
      "outputs": [
        {
          "name": "stdout",
          "output_type": "stream",
          "text": [
            "[{'timestamp': '2023-06-14T12:52:47.111Z', 'ingestedTimestamp': '2023-06-14T12:52:47.111Z', 'incoming': {'deviceGuid': 'd24db1a5-c52f-4f13-98b0-21d06fd1d54c', 'channel': 'temperatura'}, 'payload': {'deviceId': 'My_favorite_thermometer', 'metric': 'Celsius', 'value': 13.22619247}}, {'timestamp': '2023-06-14T12:52:48.992Z', 'ingestedTimestamp': '2023-06-14T12:52:48.992Z', 'incoming': {'deviceGuid': 'd24db1a5-c52f-4f13-98b0-21d06fd1d54c', 'channel': 'temperatura'}, 'payload': {'deviceId': 'My_favorite_thermometer', 'metric': 'Celsius', 'value': 13.08203983}}, {'timestamp': '2023-06-14T12:52:51.033Z', 'ingestedTimestamp': '2023-06-14T12:52:51.033Z', 'incoming': {'deviceGuid': 'd24db1a5-c52f-4f13-98b0-21d06fd1d54c', 'channel': 'temperatura'}, 'payload': {'deviceId': 'My_favorite_thermometer', 'metric': 'Celsius', 'value': 13.08203983}}, {'timestamp': '2023-06-14T12:52:53.112Z', 'ingestedTimestamp': '2023-06-14T12:52:53.112Z', 'incoming': {'deviceGuid': 'd24db1a5-c52f-4f13-98b0-21d06fd1d54c', 'channel': 'temperatura'}, 'payload': {'deviceId': 'My_favorite_thermometer', 'metric': 'Celsius', 'value': 13.08203983}}, {'timestamp': '2023-06-14T12:52:55.152Z', 'ingestedTimestamp': '2023-06-14T12:52:55.152Z', 'incoming': {'deviceGuid': 'd24db1a5-c52f-4f13-98b0-21d06fd1d54c', 'channel': 'temperatura'}, 'payload': {'deviceId': 'My_favorite_thermometer', 'metric': 'Celsius', 'value': 13.08203983}}, {'timestamp': '2023-06-14T12:52:57.355Z', 'ingestedTimestamp': '2023-06-14T12:52:57.355Z', 'incoming': {'deviceGuid': 'd24db1a5-c52f-4f13-98b0-21d06fd1d54c', 'channel': 'temperatura'}, 'payload': {'deviceId': 'My_favorite_thermometer', 'metric': 'Celsius', 'value': 12.50265503}}, {'timestamp': '2023-06-14T12:52:59.203Z', 'ingestedTimestamp': '2023-06-14T12:52:59.203Z', 'incoming': {'deviceGuid': 'd24db1a5-c52f-4f13-98b0-21d06fd1d54c', 'channel': 'temperatura'}, 'payload': {'deviceId': 'My_favorite_thermometer', 'metric': 'Celsius', 'value': 12.35710144}}, {'timestamp': '2023-06-14T12:53:01.278Z', 'ingestedTimestamp': '2023-06-14T12:53:01.278Z', 'incoming': {'deviceGuid': 'd24db1a5-c52f-4f13-98b0-21d06fd1d54c', 'channel': 'temperatura'}, 'payload': {'deviceId': 'My_favorite_thermometer', 'metric': 'Celsius', 'value': 12.35710144}}, {'timestamp': '2023-06-14T12:53:03.295Z', 'ingestedTimestamp': '2023-06-14T12:53:03.295Z', 'incoming': {'deviceGuid': 'd24db1a5-c52f-4f13-98b0-21d06fd1d54c', 'channel': 'temperatura'}, 'payload': {'deviceId': 'My_favorite_thermometer', 'metric': 'Celsius', 'value': 12.35710144}}, {'timestamp': '2023-06-14T12:53:05.344Z', 'ingestedTimestamp': '2023-06-14T12:53:05.344Z', 'incoming': {'deviceGuid': 'd24db1a5-c52f-4f13-98b0-21d06fd1d54c', 'channel': 'temperatura'}, 'payload': {'deviceId': 'My_favorite_thermometer', 'metric': 'Celsius', 'value': 13.08203983}}, {'timestamp': '2023-06-14T12:53:07.416Z', 'ingestedTimestamp': '2023-06-14T12:53:07.416Z', 'incoming': {'deviceGuid': 'd24db1a5-c52f-4f13-98b0-21d06fd1d54c', 'channel': 'temperatura'}, 'payload': {'deviceId': 'My_favorite_thermometer', 'metric': 'Celsius', 'value': 13.08203983}}, {'timestamp': '2023-06-14T12:53:09.472Z', 'ingestedTimestamp': '2023-06-14T12:53:09.472Z', 'incoming': {'deviceGuid': 'd24db1a5-c52f-4f13-98b0-21d06fd1d54c', 'channel': 'temperatura'}, 'payload': {'deviceId': 'My_favorite_thermometer', 'metric': 'Celsius', 'value': 12.35710144}}, {'timestamp': '2023-06-14T12:53:11.512Z', 'ingestedTimestamp': '2023-06-14T12:53:11.512Z', 'incoming': {'deviceGuid': 'd24db1a5-c52f-4f13-98b0-21d06fd1d54c', 'channel': 'temperatura'}, 'payload': {'deviceId': 'My_favorite_thermometer', 'metric': 'Celsius', 'value': 12.35710144}}, {'timestamp': '2023-06-14T12:53:13.760Z', 'ingestedTimestamp': '2023-06-14T12:53:13.760Z', 'incoming': {'deviceGuid': 'd24db1a5-c52f-4f13-98b0-21d06fd1d54c', 'channel': 'temperatura'}, 'payload': {'deviceId': 'My_favorite_thermometer', 'metric': 'Celsius', 'value': 12.35710144}}, {'timestamp': '2023-06-14T12:53:15.601Z', 'ingestedTimestamp': '2023-06-14T12:53:15.601Z', 'incoming': {'deviceGuid': 'd24db1a5-c52f-4f13-98b0-21d06fd1d54c', 'channel': 'temperatura'}, 'payload': {'deviceId': 'My_favorite_thermometer', 'metric': 'Celsius', 'value': 13.08203983}}, {'timestamp': '2023-06-14T12:53:17.631Z', 'ingestedTimestamp': '2023-06-14T12:53:17.631Z', 'incoming': {'deviceGuid': 'd24db1a5-c52f-4f13-98b0-21d06fd1d54c', 'channel': 'temperatura'}, 'payload': {'deviceId': 'My_favorite_thermometer', 'metric': 'Celsius', 'value': 12.35710144}}, {'timestamp': '2023-06-14T12:53:19.696Z', 'ingestedTimestamp': '2023-06-14T12:53:19.696Z', 'incoming': {'deviceGuid': 'd24db1a5-c52f-4f13-98b0-21d06fd1d54c', 'channel': 'temperatura'}, 'payload': {'deviceId': 'My_favorite_thermometer', 'metric': 'Celsius', 'value': 12.35710144}}, {'timestamp': '2023-06-14T12:53:21.751Z', 'ingestedTimestamp': '2023-06-14T12:53:21.751Z', 'incoming': {'deviceGuid': 'd24db1a5-c52f-4f13-98b0-21d06fd1d54c', 'channel': 'temperatura'}, 'payload': {'deviceId': 'My_favorite_thermometer', 'metric': 'Celsius', 'value': 13.08203983}}, {'timestamp': '2023-06-14T12:53:23.919Z', 'ingestedTimestamp': '2023-06-14T12:53:23.919Z', 'incoming': {'deviceGuid': 'd24db1a5-c52f-4f13-98b0-21d06fd1d54c', 'channel': 'temperatura'}, 'payload': {'deviceId': 'My_favorite_thermometer', 'metric': 'Celsius', 'value': 12.64792156}}, {'timestamp': '2023-06-14T12:53:25.872Z', 'ingestedTimestamp': '2023-06-14T12:53:25.872Z', 'incoming': {'deviceGuid': 'd24db1a5-c52f-4f13-98b0-21d06fd1d54c', 'channel': 'temperatura'}, 'payload': {'deviceId': 'My_favorite_thermometer', 'metric': 'Celsius', 'value': 12.50265503}}, {'timestamp': '2023-06-14T12:53:27.897Z', 'ingestedTimestamp': '2023-06-14T12:53:27.897Z', 'incoming': {'deviceGuid': 'd24db1a5-c52f-4f13-98b0-21d06fd1d54c', 'channel': 'temperatura'}, 'payload': {'deviceId': 'My_favorite_thermometer', 'metric': 'Celsius', 'value': 13.08203983}}, {'timestamp': '2023-06-14T12:53:29.889Z', 'ingestedTimestamp': '2023-06-14T12:53:29.889Z', 'incoming': {'deviceGuid': 'd24db1a5-c52f-4f13-98b0-21d06fd1d54c', 'channel': 'temperatura'}, 'payload': {'deviceId': 'My_favorite_thermometer', 'metric': 'Celsius', 'value': 13.08203983}}, {'timestamp': '2023-06-14T12:53:32.096Z', 'ingestedTimestamp': '2023-06-14T12:53:32.096Z', 'incoming': {'deviceGuid': 'd24db1a5-c52f-4f13-98b0-21d06fd1d54c', 'channel': 'temperatura'}, 'payload': {'deviceId': 'My_favorite_thermometer', 'metric': 'Celsius', 'value': 13.08203983}}, {'timestamp': '2023-06-14T12:53:33.993Z', 'ingestedTimestamp': '2023-06-14T12:53:33.993Z', 'incoming': {'deviceGuid': 'd24db1a5-c52f-4f13-98b0-21d06fd1d54c', 'channel': 'temperatura'}, 'payload': {'deviceId': 'My_favorite_thermometer', 'metric': 'Celsius', 'value': 13.08203983}}, {'timestamp': '2023-06-14T12:53:36.256Z', 'ingestedTimestamp': '2023-06-14T12:53:36.256Z', 'incoming': {'deviceGuid': 'd24db1a5-c52f-4f13-98b0-21d06fd1d54c', 'channel': 'temperatura'}, 'payload': {'deviceId': 'My_favorite_thermometer', 'metric': 'Celsius', 'value': 12.50265503}}, {'timestamp': '2023-06-14T12:53:38.232Z', 'ingestedTimestamp': '2023-06-14T12:53:38.232Z', 'incoming': {'deviceGuid': 'd24db1a5-c52f-4f13-98b0-21d06fd1d54c', 'channel': 'temperatura'}, 'payload': {'deviceId': 'My_favorite_thermometer', 'metric': 'Celsius', 'value': 12.50265503}}, {'timestamp': '2023-06-14T12:53:40.248Z', 'ingestedTimestamp': '2023-06-14T12:53:40.248Z', 'incoming': {'deviceGuid': 'd24db1a5-c52f-4f13-98b0-21d06fd1d54c', 'channel': 'temperatura'}, 'payload': {'deviceId': 'My_favorite_thermometer', 'metric': 'Celsius', 'value': 12.50265503}}, {'timestamp': '2023-06-14T12:53:42.472Z', 'ingestedTimestamp': '2023-06-14T12:53:42.472Z', 'incoming': {'deviceGuid': 'd24db1a5-c52f-4f13-98b0-21d06fd1d54c', 'channel': 'temperatura'}, 'payload': {'deviceId': 'My_favorite_thermometer', 'metric': 'Celsius', 'value': 12.64792156}}, {'timestamp': '2023-06-14T12:53:44.191Z', 'ingestedTimestamp': '2023-06-14T12:53:44.191Z', 'incoming': {'deviceGuid': 'd24db1a5-c52f-4f13-98b0-21d06fd1d54c', 'channel': 'temperatura'}, 'payload': {'deviceId': 'My_favorite_thermometer', 'metric': 'Celsius', 'value': 13.08203983}}, {'timestamp': '2023-06-14T12:53:46.239Z', 'ingestedTimestamp': '2023-06-14T12:53:46.239Z', 'incoming': {'deviceGuid': 'd24db1a5-c52f-4f13-98b0-21d06fd1d54c', 'channel': 'temperatura'}, 'payload': {'deviceId': 'My_favorite_thermometer', 'metric': 'Celsius', 'value': 13.08203983}}, {'timestamp': '2023-06-14T12:53:48.615Z', 'ingestedTimestamp': '2023-06-14T12:53:48.615Z', 'incoming': {'deviceGuid': 'd24db1a5-c52f-4f13-98b0-21d06fd1d54c', 'channel': 'temperatura'}, 'payload': {'deviceId': 'My_favorite_thermometer', 'metric': 'Celsius', 'value': 13.08203983}}, {'timestamp': '2023-06-14T12:53:50.320Z', 'ingestedTimestamp': '2023-06-14T12:53:50.320Z', 'incoming': {'deviceGuid': 'd24db1a5-c52f-4f13-98b0-21d06fd1d54c', 'channel': 'temperatura'}, 'payload': {'deviceId': 'My_favorite_thermometer', 'metric': 'Celsius', 'value': 12.79290771}}, {'timestamp': '2023-06-14T12:53:52.392Z', 'ingestedTimestamp': '2023-06-14T12:53:52.392Z', 'incoming': {'deviceGuid': 'd24db1a5-c52f-4f13-98b0-21d06fd1d54c', 'channel': 'temperatura'}, 'payload': {'deviceId': 'My_favorite_thermometer', 'metric': 'Celsius', 'value': 13.08203983}}, {'timestamp': '2023-06-14T12:53:54.616Z', 'ingestedTimestamp': '2023-06-14T12:53:54.616Z', 'incoming': {'deviceGuid': 'd24db1a5-c52f-4f13-98b0-21d06fd1d54c', 'channel': 'temperatura'}, 'payload': {'deviceId': 'My_favorite_thermometer', 'metric': 'Celsius', 'value': 12.35710144}}, {'timestamp': '2023-06-14T12:53:56.498Z', 'ingestedTimestamp': '2023-06-14T12:53:56.498Z', 'incoming': {'deviceGuid': 'd24db1a5-c52f-4f13-98b0-21d06fd1d54c', 'channel': 'temperatura'}, 'payload': {'deviceId': 'My_favorite_thermometer', 'metric': 'Celsius', 'value': 12.21125603}}, {'timestamp': '2023-06-14T12:53:58.752Z', 'ingestedTimestamp': '2023-06-14T12:53:58.752Z', 'incoming': {'deviceGuid': 'd24db1a5-c52f-4f13-98b0-21d06fd1d54c', 'channel': 'temperatura'}, 'payload': {'deviceId': 'My_favorite_thermometer', 'metric': 'Celsius', 'value': 12.50265503}}, {'timestamp': '2023-06-14T12:54:00.620Z', 'ingestedTimestamp': '2023-06-14T12:54:00.620Z', 'incoming': {'deviceGuid': 'd24db1a5-c52f-4f13-98b0-21d06fd1d54c', 'channel': 'temperatura'}, 'payload': {'deviceId': 'My_favorite_thermometer', 'metric': 'Celsius', 'value': 12.93761253}}, {'timestamp': '2023-06-14T12:54:02.777Z', 'ingestedTimestamp': '2023-06-14T12:54:02.777Z', 'incoming': {'deviceGuid': 'd24db1a5-c52f-4f13-98b0-21d06fd1d54c', 'channel': 'temperatura'}, 'payload': {'deviceId': 'My_favorite_thermometer', 'metric': 'Celsius', 'value': 12.64792156}}, {'timestamp': '2023-06-14T12:54:04.700Z', 'ingestedTimestamp': '2023-06-14T12:54:04.700Z', 'incoming': {'deviceGuid': 'd24db1a5-c52f-4f13-98b0-21d06fd1d54c', 'channel': 'temperatura'}, 'payload': {'deviceId': 'My_favorite_thermometer', 'metric': 'Celsius', 'value': 12.79290771}}, {'timestamp': '2023-06-14T12:54:06.912Z', 'ingestedTimestamp': '2023-06-14T12:54:06.912Z', 'incoming': {'deviceGuid': 'd24db1a5-c52f-4f13-98b0-21d06fd1d54c', 'channel': 'temperatura'}, 'payload': {'deviceId': 'My_favorite_thermometer', 'metric': 'Celsius', 'value': 12.79290771}}, {'timestamp': '2023-06-14T12:54:08.772Z', 'ingestedTimestamp': '2023-06-14T12:54:08.772Z', 'incoming': {'deviceGuid': 'd24db1a5-c52f-4f13-98b0-21d06fd1d54c', 'channel': 'temperatura'}, 'payload': {'deviceId': 'My_favorite_thermometer', 'metric': 'Celsius', 'value': 12.79290771}}, {'timestamp': '2023-06-14T12:54:10.833Z', 'ingestedTimestamp': '2023-06-14T12:54:10.833Z', 'incoming': {'deviceGuid': 'd24db1a5-c52f-4f13-98b0-21d06fd1d54c', 'channel': 'temperatura'}, 'payload': {'deviceId': 'My_favorite_thermometer', 'metric': 'Celsius', 'value': 12.79290771}}, {'timestamp': '2023-06-14T12:54:12.912Z', 'ingestedTimestamp': '2023-06-14T12:54:12.912Z', 'incoming': {'deviceGuid': 'd24db1a5-c52f-4f13-98b0-21d06fd1d54c', 'channel': 'temperatura'}, 'payload': {'deviceId': 'My_favorite_thermometer', 'metric': 'Celsius', 'value': 13.08203983}}, {'timestamp': '2023-06-14T12:54:14.897Z', 'ingestedTimestamp': '2023-06-14T12:54:14.897Z', 'incoming': {'deviceGuid': 'd24db1a5-c52f-4f13-98b0-21d06fd1d54c', 'channel': 'temperatura'}, 'payload': {'deviceId': 'My_favorite_thermometer', 'metric': 'Celsius', 'value': 12.50265503}}, {'timestamp': '2023-06-14T12:54:17.024Z', 'ingestedTimestamp': '2023-06-14T12:54:17.024Z', 'incoming': {'deviceGuid': 'd24db1a5-c52f-4f13-98b0-21d06fd1d54c', 'channel': 'temperatura'}, 'payload': {'deviceId': 'My_favorite_thermometer', 'metric': 'Celsius', 'value': 12.64792156}}, {'timestamp': '2023-06-14T12:54:18.961Z', 'ingestedTimestamp': '2023-06-14T12:54:18.961Z', 'incoming': {'deviceGuid': 'd24db1a5-c52f-4f13-98b0-21d06fd1d54c', 'channel': 'temperatura'}, 'payload': {'deviceId': 'My_favorite_thermometer', 'metric': 'Celsius', 'value': 12.50265503}}, {'timestamp': '2023-06-14T12:54:21.032Z', 'ingestedTimestamp': '2023-06-14T12:54:21.032Z', 'incoming': {'deviceGuid': 'd24db1a5-c52f-4f13-98b0-21d06fd1d54c', 'channel': 'temperatura'}, 'payload': {'deviceId': 'My_favorite_thermometer', 'metric': 'Celsius', 'value': 12.35710144}}, {'timestamp': '2023-06-14T12:54:23.111Z', 'ingestedTimestamp': '2023-06-14T12:54:23.111Z', 'incoming': {'deviceGuid': 'd24db1a5-c52f-4f13-98b0-21d06fd1d54c', 'channel': 'temperatura'}, 'payload': {'deviceId': 'My_favorite_thermometer', 'metric': 'Celsius', 'value': 12.35710144}}, {'timestamp': '2023-06-14T12:54:25.296Z', 'ingestedTimestamp': '2023-06-14T12:54:25.296Z', 'incoming': {'deviceGuid': 'd24db1a5-c52f-4f13-98b0-21d06fd1d54c', 'channel': 'temperatura'}, 'payload': {'deviceId': 'My_favorite_thermometer', 'metric': 'Celsius', 'value': 12.35710144}}, {'timestamp': '2023-06-14T12:54:27.191Z', 'ingestedTimestamp': '2023-06-14T12:54:27.191Z', 'incoming': {'deviceGuid': 'd24db1a5-c52f-4f13-98b0-21d06fd1d54c', 'channel': 'temperatura'}, 'payload': {'deviceId': 'My_favorite_thermometer', 'metric': 'Celsius', 'value': 12.35710144}}, {'timestamp': '2023-06-14T12:54:29.392Z', 'ingestedTimestamp': '2023-06-14T12:54:29.392Z', 'incoming': {'deviceGuid': 'd24db1a5-c52f-4f13-98b0-21d06fd1d54c', 'channel': 'temperatura'}, 'payload': {'deviceId': 'My_favorite_thermometer', 'metric': 'Celsius', 'value': 11.91868877}}, {'timestamp': '2023-06-14T12:54:31.272Z', 'ingestedTimestamp': '2023-06-14T12:54:31.272Z', 'incoming': {'deviceGuid': 'd24db1a5-c52f-4f13-98b0-21d06fd1d54c', 'channel': 'temperatura'}, 'payload': {'deviceId': 'My_favorite_thermometer', 'metric': 'Celsius', 'value': 12.21125603}}, {'timestamp': '2023-06-14T12:54:33.312Z', 'ingestedTimestamp': '2023-06-14T12:54:33.312Z', 'incoming': {'deviceGuid': 'd24db1a5-c52f-4f13-98b0-21d06fd1d54c', 'channel': 'temperatura'}, 'payload': {'deviceId': 'My_favorite_thermometer', 'metric': 'Celsius', 'value': 13.08203983}}, {'timestamp': '2023-06-14T12:54:35.352Z', 'ingestedTimestamp': '2023-06-14T12:54:35.352Z', 'incoming': {'deviceGuid': 'd24db1a5-c52f-4f13-98b0-21d06fd1d54c', 'channel': 'temperatura'}, 'payload': {'deviceId': 'My_favorite_thermometer', 'metric': 'Celsius', 'value': 13.08203983}}, {'timestamp': '2023-06-14T12:54:37.351Z', 'ingestedTimestamp': '2023-06-14T12:54:37.351Z', 'incoming': {'deviceGuid': 'd24db1a5-c52f-4f13-98b0-21d06fd1d54c', 'channel': 'temperatura'}, 'payload': {'deviceId': 'My_favorite_thermometer', 'metric': 'Celsius', 'value': 13.08203983}}, {'timestamp': '2023-06-14T12:54:39.472Z', 'ingestedTimestamp': '2023-06-14T12:54:39.472Z', 'incoming': {'deviceGuid': 'd24db1a5-c52f-4f13-98b0-21d06fd1d54c', 'channel': 'temperatura'}, 'payload': {'deviceId': 'My_favorite_thermometer', 'metric': 'Celsius', 'value': 13.08203983}}, {'timestamp': '2023-06-14T12:54:41.496Z', 'ingestedTimestamp': '2023-06-14T12:54:41.496Z', 'incoming': {'deviceGuid': 'd24db1a5-c52f-4f13-98b0-21d06fd1d54c', 'channel': 'temperatura'}, 'payload': {'deviceId': 'My_favorite_thermometer', 'metric': 'Celsius', 'value': 12.35710144}}, {'timestamp': '2023-06-14T12:54:43.713Z', 'ingestedTimestamp': '2023-06-14T12:54:43.713Z', 'incoming': {'deviceGuid': 'd24db1a5-c52f-4f13-98b0-21d06fd1d54c', 'channel': 'temperatura'}, 'payload': {'deviceId': 'My_favorite_thermometer', 'metric': 'Celsius', 'value': 12.35710144}}, {'timestamp': '2023-06-14T12:54:45.856Z', 'ingestedTimestamp': '2023-06-14T12:54:45.856Z', 'incoming': {'deviceGuid': 'd24db1a5-c52f-4f13-98b0-21d06fd1d54c', 'channel': 'temperatura'}, 'payload': {'deviceId': 'My_favorite_thermometer', 'metric': 'Celsius', 'value': 12.35710144}}, {'timestamp': '2023-06-14T12:54:47.712Z', 'ingestedTimestamp': '2023-06-14T12:54:47.712Z', 'incoming': {'deviceGuid': 'd24db1a5-c52f-4f13-98b0-21d06fd1d54c', 'channel': 'temperatura'}, 'payload': {'deviceId': 'My_favorite_thermometer', 'metric': 'Celsius', 'value': 12.35710144}}, {'timestamp': '2023-06-14T12:54:49.632Z', 'ingestedTimestamp': '2023-06-14T12:54:49.632Z', 'incoming': {'deviceGuid': 'd24db1a5-c52f-4f13-98b0-21d06fd1d54c', 'channel': 'temperatura'}, 'payload': {'deviceId': 'My_favorite_thermometer', 'metric': 'Celsius', 'value': 12.35710144}}, {'timestamp': '2023-06-14T12:54:51.731Z', 'ingestedTimestamp': '2023-06-14T12:54:51.731Z', 'incoming': {'deviceGuid': 'd24db1a5-c52f-4f13-98b0-21d06fd1d54c', 'channel': 'temperatura'}, 'payload': {'deviceId': 'My_favorite_thermometer', 'metric': 'Celsius', 'value': 12.35710144}}, {'timestamp': '2023-06-14T12:54:53.822Z', 'ingestedTimestamp': '2023-06-14T12:54:53.822Z', 'incoming': {'deviceGuid': 'd24db1a5-c52f-4f13-98b0-21d06fd1d54c', 'channel': 'temperatura'}, 'payload': {'deviceId': 'My_favorite_thermometer', 'metric': 'Celsius', 'value': 12.35710144}}, {'timestamp': '2023-06-14T12:54:55.872Z', 'ingestedTimestamp': '2023-06-14T12:54:55.872Z', 'incoming': {'deviceGuid': 'd24db1a5-c52f-4f13-98b0-21d06fd1d54c', 'channel': 'temperatura'}, 'payload': {'deviceId': 'My_favorite_thermometer', 'metric': 'Celsius', 'value': 12.35710144}}, {'timestamp': '2023-06-14T12:54:57.912Z', 'ingestedTimestamp': '2023-06-14T12:54:57.912Z', 'incoming': {'deviceGuid': 'd24db1a5-c52f-4f13-98b0-21d06fd1d54c', 'channel': 'temperatura'}, 'payload': {'deviceId': 'My_favorite_thermometer', 'metric': 'Celsius', 'value': 12.35710144}}, {'timestamp': '2023-06-14T12:55:00.121Z', 'ingestedTimestamp': '2023-06-14T12:55:00.121Z', 'incoming': {'deviceGuid': 'd24db1a5-c52f-4f13-98b0-21d06fd1d54c', 'channel': 'temperatura'}, 'payload': {'deviceId': 'My_favorite_thermometer', 'metric': 'Celsius', 'value': 12.50265503}}, {'timestamp': '2023-06-14T12:55:01.912Z', 'ingestedTimestamp': '2023-06-14T12:55:01.912Z', 'incoming': {'deviceGuid': 'd24db1a5-c52f-4f13-98b0-21d06fd1d54c', 'channel': 'temperatura'}, 'payload': {'deviceId': 'My_favorite_thermometer', 'metric': 'Celsius', 'value': 12.50265503}}, {'timestamp': '2023-06-14T12:55:03.953Z', 'ingestedTimestamp': '2023-06-14T12:55:03.953Z', 'incoming': {'deviceGuid': 'd24db1a5-c52f-4f13-98b0-21d06fd1d54c', 'channel': 'temperatura'}, 'payload': {'deviceId': 'My_favorite_thermometer', 'metric': 'Celsius', 'value': 13.08203983}}, {'timestamp': '2023-06-14T12:55:06.392Z', 'ingestedTimestamp': '2023-06-14T12:55:06.392Z', 'incoming': {'deviceGuid': 'd24db1a5-c52f-4f13-98b0-21d06fd1d54c', 'channel': 'temperatura'}, 'payload': {'deviceId': 'My_favorite_thermometer', 'metric': 'Celsius', 'value': 12.35710144}}, {'timestamp': '2023-06-14T12:55:08.100Z', 'ingestedTimestamp': '2023-06-14T12:55:08.100Z', 'incoming': {'deviceGuid': 'd24db1a5-c52f-4f13-98b0-21d06fd1d54c', 'channel': 'temperatura'}, 'payload': {'deviceId': 'My_favorite_thermometer', 'metric': 'Celsius', 'value': 12.35710144}}, {'timestamp': '2023-06-14T12:55:10.376Z', 'ingestedTimestamp': '2023-06-14T12:55:10.376Z', 'incoming': {'deviceGuid': 'd24db1a5-c52f-4f13-98b0-21d06fd1d54c', 'channel': 'temperatura'}, 'payload': {'deviceId': 'My_favorite_thermometer', 'metric': 'Celsius', 'value': 12.50265503}}, {'timestamp': '2023-06-14T12:55:12.152Z', 'ingestedTimestamp': '2023-06-14T12:55:12.152Z', 'incoming': {'deviceGuid': 'd24db1a5-c52f-4f13-98b0-21d06fd1d54c', 'channel': 'temperatura'}, 'payload': {'deviceId': 'My_favorite_thermometer', 'metric': 'Celsius', 'value': 12.35710144}}, {'timestamp': '2023-06-14T12:55:14.217Z', 'ingestedTimestamp': '2023-06-14T12:55:14.217Z', 'incoming': {'deviceGuid': 'd24db1a5-c52f-4f13-98b0-21d06fd1d54c', 'channel': 'temperatura'}, 'payload': {'deviceId': 'My_favorite_thermometer', 'metric': 'Celsius', 'value': 12.35710144}}, {'timestamp': '2023-06-14T12:55:16.249Z', 'ingestedTimestamp': '2023-06-14T12:55:16.249Z', 'incoming': {'deviceGuid': 'd24db1a5-c52f-4f13-98b0-21d06fd1d54c', 'channel': 'temperatura'}, 'payload': {'deviceId': 'My_favorite_thermometer', 'metric': 'Celsius', 'value': 12.35710144}}, {'timestamp': '2023-06-14T12:55:18.376Z', 'ingestedTimestamp': '2023-06-14T12:55:18.376Z', 'incoming': {'deviceGuid': 'd24db1a5-c52f-4f13-98b0-21d06fd1d54c', 'channel': 'temperatura'}, 'payload': {'deviceId': 'My_favorite_thermometer', 'metric': 'Celsius', 'value': 13.08203983}}, {'timestamp': '2023-06-14T12:55:20.632Z', 'ingestedTimestamp': '2023-06-14T12:55:20.632Z', 'incoming': {'deviceGuid': 'd24db1a5-c52f-4f13-98b0-21d06fd1d54c', 'channel': 'temperatura'}, 'payload': {'deviceId': 'My_favorite_thermometer', 'metric': 'Celsius', 'value': 13.08203983}}, {'timestamp': '2023-06-14T12:55:22.392Z', 'ingestedTimestamp': '2023-06-14T12:55:22.392Z', 'incoming': {'deviceGuid': 'd24db1a5-c52f-4f13-98b0-21d06fd1d54c', 'channel': 'temperatura'}, 'payload': {'deviceId': 'My_favorite_thermometer', 'metric': 'Celsius', 'value': 13.08203983}}, {'timestamp': '2023-06-14T12:55:24.392Z', 'ingestedTimestamp': '2023-06-14T12:55:24.392Z', 'incoming': {'deviceGuid': 'd24db1a5-c52f-4f13-98b0-21d06fd1d54c', 'channel': 'temperatura'}, 'payload': {'deviceId': 'My_favorite_thermometer', 'metric': 'Celsius', 'value': 13.08203983}}, {'timestamp': '2023-06-14T12:55:26.481Z', 'ingestedTimestamp': '2023-06-14T12:55:26.481Z', 'incoming': {'deviceGuid': 'd24db1a5-c52f-4f13-98b0-21d06fd1d54c', 'channel': 'temperatura'}, 'payload': {'deviceId': 'My_favorite_thermometer', 'metric': 'Celsius', 'value': 13.08203983}}, {'timestamp': '2023-06-14T12:55:28.480Z', 'ingestedTimestamp': '2023-06-14T12:55:28.480Z', 'incoming': {'deviceGuid': 'd24db1a5-c52f-4f13-98b0-21d06fd1d54c', 'channel': 'temperatura'}, 'payload': {'deviceId': 'My_favorite_thermometer', 'metric': 'Celsius', 'value': 13.65703869}}, {'timestamp': '2023-06-14T12:55:30.552Z', 'ingestedTimestamp': '2023-06-14T12:55:30.552Z', 'incoming': {'deviceGuid': 'd24db1a5-c52f-4f13-98b0-21d06fd1d54c', 'channel': 'temperatura'}, 'payload': {'deviceId': 'My_favorite_thermometer', 'metric': 'Celsius', 'value': 14.65327263}}, {'timestamp': '2023-06-14T12:55:32.736Z', 'ingestedTimestamp': '2023-06-14T12:55:32.736Z', 'incoming': {'deviceGuid': 'd24db1a5-c52f-4f13-98b0-21d06fd1d54c', 'channel': 'temperatura'}, 'payload': {'deviceId': 'My_favorite_thermometer', 'metric': 'Celsius', 'value': 14.79459763}}, {'timestamp': '2023-06-14T12:55:34.641Z', 'ingestedTimestamp': '2023-06-14T12:55:34.641Z', 'incoming': {'deviceGuid': 'd24db1a5-c52f-4f13-98b0-21d06fd1d54c', 'channel': 'temperatura'}, 'payload': {'deviceId': 'My_favorite_thermometer', 'metric': 'Celsius', 'value': 15.35750294}}, {'timestamp': '2023-06-14T12:55:36.680Z', 'ingestedTimestamp': '2023-06-14T12:55:36.680Z', 'incoming': {'deviceGuid': 'd24db1a5-c52f-4f13-98b0-21d06fd1d54c', 'channel': 'temperatura'}, 'payload': {'deviceId': 'My_favorite_thermometer', 'metric': 'Celsius', 'value': 15.77724743}}, {'timestamp': '2023-06-14T12:55:38.872Z', 'ingestedTimestamp': '2023-06-14T12:55:38.872Z', 'incoming': {'deviceGuid': 'd24db1a5-c52f-4f13-98b0-21d06fd1d54c', 'channel': 'temperatura'}, 'payload': {'deviceId': 'My_favorite_thermometer', 'metric': 'Celsius', 'value': 15.77724743}}, {'timestamp': '2023-06-14T12:55:40.832Z', 'ingestedTimestamp': '2023-06-14T12:55:40.832Z', 'incoming': {'deviceGuid': 'd24db1a5-c52f-4f13-98b0-21d06fd1d54c', 'channel': 'temperatura'}, 'payload': {'deviceId': 'My_favorite_thermometer', 'metric': 'Celsius', 'value': 15.91671181}}, {'timestamp': '2023-06-14T12:55:42.952Z', 'ingestedTimestamp': '2023-06-14T12:55:42.952Z', 'incoming': {'deviceGuid': 'd24db1a5-c52f-4f13-98b0-21d06fd1d54c', 'channel': 'temperatura'}, 'payload': {'deviceId': 'My_favorite_thermometer', 'metric': 'Celsius', 'value': 15.91671181}}, {'timestamp': '2023-06-14T12:55:45.033Z', 'ingestedTimestamp': '2023-06-14T12:55:45.033Z', 'incoming': {'deviceGuid': 'd24db1a5-c52f-4f13-98b0-21d06fd1d54c', 'channel': 'temperatura'}, 'payload': {'deviceId': 'My_favorite_thermometer', 'metric': 'Celsius', 'value': 16.19497871}}, {'timestamp': '2023-06-14T12:55:47.032Z', 'ingestedTimestamp': '2023-06-14T12:55:47.032Z', 'incoming': {'deviceGuid': 'd24db1a5-c52f-4f13-98b0-21d06fd1d54c', 'channel': 'temperatura'}, 'payload': {'deviceId': 'My_favorite_thermometer', 'metric': 'Celsius', 'value': 16.3337841}}, {'timestamp': '2023-06-14T12:55:49.060Z', 'ingestedTimestamp': '2023-06-14T12:55:49.060Z', 'incoming': {'deviceGuid': 'd24db1a5-c52f-4f13-98b0-21d06fd1d54c', 'channel': 'temperatura'}, 'payload': {'deviceId': 'My_favorite_thermometer', 'metric': 'Celsius', 'value': 16.3337841}}, {'timestamp': '2023-06-14T12:55:51.113Z', 'ingestedTimestamp': '2023-06-14T12:55:51.113Z', 'incoming': {'deviceGuid': 'd24db1a5-c52f-4f13-98b0-21d06fd1d54c', 'channel': 'temperatura'}, 'payload': {'deviceId': 'My_favorite_thermometer', 'metric': 'Celsius', 'value': 16.47237778}}, {'timestamp': '2023-06-14T12:55:53.352Z', 'ingestedTimestamp': '2023-06-14T12:55:53.352Z', 'incoming': {'deviceGuid': 'd24db1a5-c52f-4f13-98b0-21d06fd1d54c', 'channel': 'temperatura'}, 'payload': {'deviceId': 'My_favorite_thermometer', 'metric': 'Celsius', 'value': 16.47237778}}, {'timestamp': '2023-06-14T12:55:55.218Z', 'ingestedTimestamp': '2023-06-14T12:55:55.218Z', 'incoming': {'deviceGuid': 'd24db1a5-c52f-4f13-98b0-21d06fd1d54c', 'channel': 'temperatura'}, 'payload': {'deviceId': 'My_favorite_thermometer', 'metric': 'Celsius', 'value': 16.47237778}}, {'timestamp': '2023-06-14T12:55:57.200Z', 'ingestedTimestamp': '2023-06-14T12:55:57.200Z', 'incoming': {'deviceGuid': 'd24db1a5-c52f-4f13-98b0-21d06fd1d54c', 'channel': 'temperatura'}, 'payload': {'deviceId': 'My_favorite_thermometer', 'metric': 'Celsius', 'value': 16.47237778}}, {'timestamp': '2023-06-14T12:55:59.192Z', 'ingestedTimestamp': '2023-06-14T12:55:59.192Z', 'incoming': {'deviceGuid': 'd24db1a5-c52f-4f13-98b0-21d06fd1d54c', 'channel': 'temperatura'}, 'payload': {'deviceId': 'My_favorite_thermometer', 'metric': 'Celsius', 'value': 16.47237778}}, {'timestamp': '2023-06-14T12:56:01.400Z', 'ingestedTimestamp': '2023-06-14T12:56:01.400Z', 'incoming': {'deviceGuid': 'd24db1a5-c52f-4f13-98b0-21d06fd1d54c', 'channel': 'temperatura'}, 'payload': {'deviceId': 'My_favorite_thermometer', 'metric': 'Celsius', 'value': 16.47237778}}, {'timestamp': '2023-06-14T12:56:03.224Z', 'ingestedTimestamp': '2023-06-14T12:56:03.224Z', 'incoming': {'deviceGuid': 'd24db1a5-c52f-4f13-98b0-21d06fd1d54c', 'channel': 'temperatura'}, 'payload': {'deviceId': 'My_favorite_thermometer', 'metric': 'Celsius', 'value': 15.91671181}}, {'timestamp': '2023-06-14T12:56:05.368Z', 'ingestedTimestamp': '2023-06-14T12:56:05.368Z', 'incoming': {'deviceGuid': 'd24db1a5-c52f-4f13-98b0-21d06fd1d54c', 'channel': 'temperatura'}, 'payload': {'deviceId': 'My_favorite_thermometer', 'metric': 'Celsius', 'value': 15.77724743}}, {'timestamp': '2023-06-14T12:56:07.336Z', 'ingestedTimestamp': '2023-06-14T12:56:07.336Z', 'incoming': {'deviceGuid': 'd24db1a5-c52f-4f13-98b0-21d06fd1d54c', 'channel': 'temperatura'}, 'payload': {'deviceId': 'My_favorite_thermometer', 'metric': 'Celsius', 'value': 15.49764538}}, {'timestamp': '2023-06-14T12:56:09.736Z', 'ingestedTimestamp': '2023-06-14T12:56:09.736Z', 'incoming': {'deviceGuid': 'd24db1a5-c52f-4f13-98b0-21d06fd1d54c', 'channel': 'temperatura'}, 'payload': {'deviceId': 'My_favorite_thermometer', 'metric': 'Celsius', 'value': 15.35750294}}, {'timestamp': '2023-06-14T12:56:11.672Z', 'ingestedTimestamp': '2023-06-14T12:56:11.672Z', 'incoming': {'deviceGuid': 'd24db1a5-c52f-4f13-98b0-21d06fd1d54c', 'channel': 'temperatura'}, 'payload': {'deviceId': 'My_favorite_thermometer', 'metric': 'Celsius', 'value': 15.21712875}}, {'timestamp': '2023-06-14T12:56:13.467Z', 'ingestedTimestamp': '2023-06-14T12:56:13.467Z', 'incoming': {'deviceGuid': 'd24db1a5-c52f-4f13-98b0-21d06fd1d54c', 'channel': 'temperatura'}, 'payload': {'deviceId': 'My_favorite_thermometer', 'metric': 'Celsius', 'value': 15.07652092}}, {'timestamp': '2023-06-14T12:56:15.553Z', 'ingestedTimestamp': '2023-06-14T12:56:15.553Z', 'incoming': {'deviceGuid': 'd24db1a5-c52f-4f13-98b0-21d06fd1d54c', 'channel': 'temperatura'}, 'payload': {'deviceId': 'My_favorite_thermometer', 'metric': 'Celsius', 'value': 14.79459763}}, {'timestamp': '2023-06-14T12:56:17.512Z', 'ingestedTimestamp': '2023-06-14T12:56:17.512Z', 'incoming': {'deviceGuid': 'd24db1a5-c52f-4f13-98b0-21d06fd1d54c', 'channel': 'temperatura'}, 'payload': {'deviceId': 'My_favorite_thermometer', 'metric': 'Celsius', 'value': 14.79459763}}, {'timestamp': '2023-06-14T12:56:19.591Z', 'ingestedTimestamp': '2023-06-14T12:56:19.591Z', 'incoming': {'deviceGuid': 'd24db1a5-c52f-4f13-98b0-21d06fd1d54c', 'channel': 'temperatura'}, 'payload': {'deviceId': 'My_favorite_thermometer', 'metric': 'Celsius', 'value': 14.65327263}}, {'timestamp': '2023-06-14T12:56:21.872Z', 'ingestedTimestamp': '2023-06-14T12:56:21.872Z', 'incoming': {'deviceGuid': 'd24db1a5-c52f-4f13-98b0-21d06fd1d54c', 'channel': 'temperatura'}, 'payload': {'deviceId': 'My_favorite_thermometer', 'metric': 'Celsius', 'value': 14.65327263}}, {'timestamp': '2023-06-14T12:56:24.017Z', 'ingestedTimestamp': '2023-06-14T12:56:24.017Z', 'incoming': {'deviceGuid': 'd24db1a5-c52f-4f13-98b0-21d06fd1d54c', 'channel': 'temperatura'}, 'payload': {'deviceId': 'My_favorite_thermometer', 'metric': 'Celsius', 'value': 14.51170635}}, {'timestamp': '2023-06-14T12:56:25.672Z', 'ingestedTimestamp': '2023-06-14T12:56:25.672Z', 'incoming': {'deviceGuid': 'd24db1a5-c52f-4f13-98b0-21d06fd1d54c', 'channel': 'temperatura'}, 'payload': {'deviceId': 'My_favorite_thermometer', 'metric': 'Celsius', 'value': 14.22783184}}, {'timestamp': '2023-06-14T12:56:27.776Z', 'ingestedTimestamp': '2023-06-14T12:56:27.776Z', 'incoming': {'deviceGuid': 'd24db1a5-c52f-4f13-98b0-21d06fd1d54c', 'channel': 'temperatura'}, 'payload': {'deviceId': 'My_favorite_thermometer', 'metric': 'Celsius', 'value': 14.08551693}}, {'timestamp': '2023-06-14T12:56:29.816Z', 'ingestedTimestamp': '2023-06-14T12:56:29.816Z', 'incoming': {'deviceGuid': 'd24db1a5-c52f-4f13-98b0-21d06fd1d54c', 'channel': 'temperatura'}, 'payload': {'deviceId': 'My_favorite_thermometer', 'metric': 'Celsius', 'value': 14.08551693}}, {'timestamp': '2023-06-14T12:56:31.832Z', 'ingestedTimestamp': '2023-06-14T12:56:31.832Z', 'incoming': {'deviceGuid': 'd24db1a5-c52f-4f13-98b0-21d06fd1d54c', 'channel': 'temperatura'}, 'payload': {'deviceId': 'My_favorite_thermometer', 'metric': 'Celsius', 'value': 13.94295025}}, {'timestamp': '2023-06-14T12:56:33.897Z', 'ingestedTimestamp': '2023-06-14T12:56:33.897Z', 'incoming': {'deviceGuid': 'd24db1a5-c52f-4f13-98b0-21d06fd1d54c', 'channel': 'temperatura'}, 'payload': {'deviceId': 'My_favorite_thermometer', 'metric': 'Celsius', 'value': 13.65703869}}, {'timestamp': '2023-06-14T12:56:35.912Z', 'ingestedTimestamp': '2023-06-14T12:56:35.912Z', 'incoming': {'deviceGuid': 'd24db1a5-c52f-4f13-98b0-21d06fd1d54c', 'channel': 'temperatura'}, 'payload': {'deviceId': 'My_favorite_thermometer', 'metric': 'Celsius', 'value': 13.65703869}}, {'timestamp': '2023-06-14T12:56:37.992Z', 'ingestedTimestamp': '2023-06-14T12:56:37.992Z', 'incoming': {'deviceGuid': 'd24db1a5-c52f-4f13-98b0-21d06fd1d54c', 'channel': 'temperatura'}, 'payload': {'deviceId': 'My_favorite_thermometer', 'metric': 'Celsius', 'value': 13.65703869}}, {'timestamp': '2023-06-14T12:56:40.184Z', 'ingestedTimestamp': '2023-06-14T12:56:40.184Z', 'incoming': {'deviceGuid': 'd24db1a5-c52f-4f13-98b0-21d06fd1d54c', 'channel': 'temperatura'}, 'payload': {'deviceId': 'My_favorite_thermometer', 'metric': 'Celsius', 'value': 13.08203983}}, {'timestamp': '2023-06-14T12:56:42.201Z', 'ingestedTimestamp': '2023-06-14T12:56:42.201Z', 'incoming': {'deviceGuid': 'd24db1a5-c52f-4f13-98b0-21d06fd1d54c', 'channel': 'temperatura'}, 'payload': {'deviceId': 'My_favorite_thermometer', 'metric': 'Celsius', 'value': 13.08203983}}, {'timestamp': '2023-06-14T12:56:44.080Z', 'ingestedTimestamp': '2023-06-14T12:56:44.080Z', 'incoming': {'deviceGuid': 'd24db1a5-c52f-4f13-98b0-21d06fd1d54c', 'channel': 'temperatura'}, 'payload': {'deviceId': 'My_favorite_thermometer', 'metric': 'Celsius', 'value': 13.08203983}}, {'timestamp': '2023-06-14T12:56:46.112Z', 'ingestedTimestamp': '2023-06-14T12:56:46.112Z', 'incoming': {'deviceGuid': 'd24db1a5-c52f-4f13-98b0-21d06fd1d54c', 'channel': 'temperatura'}, 'payload': {'deviceId': 'My_favorite_thermometer', 'metric': 'Celsius', 'value': 13.51368809}}, {'timestamp': '2023-06-14T12:56:48.512Z', 'ingestedTimestamp': '2023-06-14T12:56:48.512Z', 'incoming': {'deviceGuid': 'd24db1a5-c52f-4f13-98b0-21d06fd1d54c', 'channel': 'temperatura'}, 'payload': {'deviceId': 'My_favorite_thermometer', 'metric': 'Celsius', 'value': 13.08203983}}, {'timestamp': '2023-06-14T12:56:50.273Z', 'ingestedTimestamp': '2023-06-14T12:56:50.273Z', 'incoming': {'deviceGuid': 'd24db1a5-c52f-4f13-98b0-21d06fd1d54c', 'channel': 'temperatura'}, 'payload': {'deviceId': 'My_favorite_thermometer', 'metric': 'Celsius', 'value': 13.08203983}}, {'timestamp': '2023-06-14T12:56:52.280Z', 'ingestedTimestamp': '2023-06-14T12:56:52.280Z', 'incoming': {'deviceGuid': 'd24db1a5-c52f-4f13-98b0-21d06fd1d54c', 'channel': 'temperatura'}, 'payload': {'deviceId': 'My_favorite_thermometer', 'metric': 'Celsius', 'value': 13.08203983}}, {'timestamp': '2023-06-14T12:56:54.353Z', 'ingestedTimestamp': '2023-06-14T12:56:54.353Z', 'incoming': {'deviceGuid': 'd24db1a5-c52f-4f13-98b0-21d06fd1d54c', 'channel': 'temperatura'}, 'payload': {'deviceId': 'My_favorite_thermometer', 'metric': 'Celsius', 'value': 13.08203983}}, {'timestamp': '2023-06-14T12:56:56.376Z', 'ingestedTimestamp': '2023-06-14T12:56:56.376Z', 'incoming': {'deviceGuid': 'd24db1a5-c52f-4f13-98b0-21d06fd1d54c', 'channel': 'temperatura'}, 'payload': {'deviceId': 'My_favorite_thermometer', 'metric': 'Celsius', 'value': 13.08203983}}, {'timestamp': '2023-06-14T12:56:58.416Z', 'ingestedTimestamp': '2023-06-14T12:56:58.416Z', 'incoming': {'deviceGuid': 'd24db1a5-c52f-4f13-98b0-21d06fd1d54c', 'channel': 'temperatura'}, 'payload': {'deviceId': 'My_favorite_thermometer', 'metric': 'Celsius', 'value': 13.08203983}}, {'timestamp': '2023-06-14T12:57:00.712Z', 'ingestedTimestamp': '2023-06-14T12:57:00.712Z', 'incoming': {'deviceGuid': 'd24db1a5-c52f-4f13-98b0-21d06fd1d54c', 'channel': 'temperatura'}, 'payload': {'deviceId': 'My_favorite_thermometer', 'metric': 'Celsius', 'value': 13.08203983}}, {'timestamp': '2023-06-14T12:57:02.480Z', 'ingestedTimestamp': '2023-06-14T12:57:02.480Z', 'incoming': {'deviceGuid': 'd24db1a5-c52f-4f13-98b0-21d06fd1d54c', 'channel': 'temperatura'}, 'payload': {'deviceId': 'My_favorite_thermometer', 'metric': 'Celsius', 'value': 13.08203983}}, {'timestamp': '2023-06-14T12:57:04.591Z', 'ingestedTimestamp': '2023-06-14T12:57:04.591Z', 'incoming': {'deviceGuid': 'd24db1a5-c52f-4f13-98b0-21d06fd1d54c', 'channel': 'temperatura'}, 'payload': {'deviceId': 'My_favorite_thermometer', 'metric': 'Celsius', 'value': 13.08203983}}, {'timestamp': '2023-06-14T12:57:06.600Z', 'ingestedTimestamp': '2023-06-14T12:57:06.600Z', 'incoming': {'deviceGuid': 'd24db1a5-c52f-4f13-98b0-21d06fd1d54c', 'channel': 'temperatura'}, 'payload': {'deviceId': 'My_favorite_thermometer', 'metric': 'Celsius', 'value': 13.08203983}}, {'timestamp': '2023-06-14T12:57:08.616Z', 'ingestedTimestamp': '2023-06-14T12:57:08.616Z', 'incoming': {'deviceGuid': 'd24db1a5-c52f-4f13-98b0-21d06fd1d54c', 'channel': 'temperatura'}, 'payload': {'deviceId': 'My_favorite_thermometer', 'metric': 'Celsius', 'value': 13.08203983}}, {'timestamp': '2023-06-14T12:57:10.736Z', 'ingestedTimestamp': '2023-06-14T12:57:10.736Z', 'incoming': {'deviceGuid': 'd24db1a5-c52f-4f13-98b0-21d06fd1d54c', 'channel': 'temperatura'}, 'payload': {'deviceId': 'My_favorite_thermometer', 'metric': 'Celsius', 'value': 13.08203983}}, {'timestamp': '2023-06-14T12:57:12.672Z', 'ingestedTimestamp': '2023-06-14T12:57:12.672Z', 'incoming': {'deviceGuid': 'd24db1a5-c52f-4f13-98b0-21d06fd1d54c', 'channel': 'temperatura'}, 'payload': {'deviceId': 'My_favorite_thermometer', 'metric': 'Celsius', 'value': 13.08203983}}, {'timestamp': '2023-06-14T12:57:14.754Z', 'ingestedTimestamp': '2023-06-14T12:57:14.754Z', 'incoming': {'deviceGuid': 'd24db1a5-c52f-4f13-98b0-21d06fd1d54c', 'channel': 'temperatura'}, 'payload': {'deviceId': 'My_favorite_thermometer', 'metric': 'Celsius', 'value': 13.08203983}}, {'timestamp': '2023-06-14T12:57:16.801Z', 'ingestedTimestamp': '2023-06-14T12:57:16.801Z', 'incoming': {'deviceGuid': 'd24db1a5-c52f-4f13-98b0-21d06fd1d54c', 'channel': 'temperatura'}, 'payload': {'deviceId': 'My_favorite_thermometer', 'metric': 'Celsius', 'value': 13.08203983}}, {'timestamp': '2023-06-14T12:57:18.866Z', 'ingestedTimestamp': '2023-06-14T12:57:18.866Z', 'incoming': {'deviceGuid': 'd24db1a5-c52f-4f13-98b0-21d06fd1d54c', 'channel': 'temperatura'}, 'payload': {'deviceId': 'My_favorite_thermometer', 'metric': 'Celsius', 'value': 13.08203983}}, {'timestamp': '2023-06-14T12:57:21.360Z', 'ingestedTimestamp': '2023-06-14T12:57:21.360Z', 'incoming': {'deviceGuid': 'd24db1a5-c52f-4f13-98b0-21d06fd1d54c', 'channel': 'temperatura'}, 'payload': {'deviceId': 'My_favorite_thermometer', 'metric': 'Celsius', 'value': 13.08203983}}, {'timestamp': '2023-06-14T12:57:23.352Z', 'ingestedTimestamp': '2023-06-14T12:57:23.352Z', 'incoming': {'deviceGuid': 'd24db1a5-c52f-4f13-98b0-21d06fd1d54c', 'channel': 'temperatura'}, 'payload': {'deviceId': 'My_favorite_thermometer', 'metric': 'Celsius', 'value': 13.08203983}}, {'timestamp': '2023-06-14T12:57:25.592Z', 'ingestedTimestamp': '2023-06-14T12:57:25.592Z', 'incoming': {'deviceGuid': 'd24db1a5-c52f-4f13-98b0-21d06fd1d54c', 'channel': 'temperatura'}, 'payload': {'deviceId': 'My_favorite_thermometer', 'metric': 'Celsius', 'value': 13.08203983}}, {'timestamp': '2023-06-14T12:57:27.152Z', 'ingestedTimestamp': '2023-06-14T12:57:27.152Z', 'incoming': {'deviceGuid': 'd24db1a5-c52f-4f13-98b0-21d06fd1d54c', 'channel': 'temperatura'}, 'payload': {'deviceId': 'My_favorite_thermometer', 'metric': 'Celsius', 'value': 13.08203983}}, {'timestamp': '2023-06-14T12:57:29.072Z', 'ingestedTimestamp': '2023-06-14T12:57:29.072Z', 'incoming': {'deviceGuid': 'd24db1a5-c52f-4f13-98b0-21d06fd1d54c', 'channel': 'temperatura'}, 'payload': {'deviceId': 'My_favorite_thermometer', 'metric': 'Celsius', 'value': 12.64792156}}, {'timestamp': '2023-06-14T12:57:31.112Z', 'ingestedTimestamp': '2023-06-14T12:57:31.112Z', 'incoming': {'deviceGuid': 'd24db1a5-c52f-4f13-98b0-21d06fd1d54c', 'channel': 'temperatura'}, 'payload': {'deviceId': 'My_favorite_thermometer', 'metric': 'Celsius', 'value': 12.50265503}}, {'timestamp': '2023-06-14T12:57:33.112Z', 'ingestedTimestamp': '2023-06-14T12:57:33.112Z', 'incoming': {'deviceGuid': 'd24db1a5-c52f-4f13-98b0-21d06fd1d54c', 'channel': 'temperatura'}, 'payload': {'deviceId': 'My_favorite_thermometer', 'metric': 'Celsius', 'value': 12.64792156}}, {'timestamp': '2023-06-14T12:57:35.457Z', 'ingestedTimestamp': '2023-06-14T12:57:35.457Z', 'incoming': {'deviceGuid': 'd24db1a5-c52f-4f13-98b0-21d06fd1d54c', 'channel': 'temperatura'}, 'payload': {'deviceId': 'My_favorite_thermometer', 'metric': 'Celsius', 'value': 12.64792156}}, {'timestamp': '2023-06-14T12:57:37.536Z', 'ingestedTimestamp': '2023-06-14T12:57:37.536Z', 'incoming': {'deviceGuid': 'd24db1a5-c52f-4f13-98b0-21d06fd1d54c', 'channel': 'temperatura'}, 'payload': {'deviceId': 'My_favorite_thermometer', 'metric': 'Celsius', 'value': 12.35710144}}, {'timestamp': '2023-06-14T12:57:39.272Z', 'ingestedTimestamp': '2023-06-14T12:57:39.272Z', 'incoming': {'deviceGuid': 'd24db1a5-c52f-4f13-98b0-21d06fd1d54c', 'channel': 'temperatura'}, 'payload': {'deviceId': 'My_favorite_thermometer', 'metric': 'Celsius', 'value': 12.50265503}}, {'timestamp': '2023-06-14T12:57:41.298Z', 'ingestedTimestamp': '2023-06-14T12:57:41.298Z', 'incoming': {'deviceGuid': 'd24db1a5-c52f-4f13-98b0-21d06fd1d54c', 'channel': 'temperatura'}, 'payload': {'deviceId': 'My_favorite_thermometer', 'metric': 'Celsius', 'value': 12.50265503}}, {'timestamp': '2023-06-14T12:57:43.592Z', 'ingestedTimestamp': '2023-06-14T12:57:43.592Z', 'incoming': {'deviceGuid': 'd24db1a5-c52f-4f13-98b0-21d06fd1d54c', 'channel': 'temperatura'}, 'payload': {'deviceId': 'My_favorite_thermometer', 'metric': 'Celsius', 'value': 12.64792156}}, {'timestamp': '2023-06-14T12:57:45.392Z', 'ingestedTimestamp': '2023-06-14T12:57:45.392Z', 'incoming': {'deviceGuid': 'd24db1a5-c52f-4f13-98b0-21d06fd1d54c', 'channel': 'temperatura'}, 'payload': {'deviceId': 'My_favorite_thermometer', 'metric': 'Celsius', 'value': 13.08203983}}, {'timestamp': '2023-06-14T12:57:47.473Z', 'ingestedTimestamp': '2023-06-14T12:57:47.473Z', 'incoming': {'deviceGuid': 'd24db1a5-c52f-4f13-98b0-21d06fd1d54c', 'channel': 'temperatura'}, 'payload': {'deviceId': 'My_favorite_thermometer', 'metric': 'Celsius', 'value': 12.64792156}}, {'timestamp': '2023-06-14T12:57:49.472Z', 'ingestedTimestamp': '2023-06-14T12:57:49.472Z', 'incoming': {'deviceGuid': 'd24db1a5-c52f-4f13-98b0-21d06fd1d54c', 'channel': 'temperatura'}, 'payload': {'deviceId': 'My_favorite_thermometer', 'metric': 'Celsius', 'value': 13.08203983}}, {'timestamp': '2023-06-14T12:57:51.552Z', 'ingestedTimestamp': '2023-06-14T12:57:51.552Z', 'incoming': {'deviceGuid': 'd24db1a5-c52f-4f13-98b0-21d06fd1d54c', 'channel': 'temperatura'}, 'payload': {'deviceId': 'My_favorite_thermometer', 'metric': 'Celsius', 'value': 12.93761253}}, {'timestamp': '2023-06-14T12:57:53.593Z', 'ingestedTimestamp': '2023-06-14T12:57:53.593Z', 'incoming': {'deviceGuid': 'd24db1a5-c52f-4f13-98b0-21d06fd1d54c', 'channel': 'temperatura'}, 'payload': {'deviceId': 'My_favorite_thermometer', 'metric': 'Celsius', 'value': 12.93761253}}, {'timestamp': '2023-06-14T12:57:55.832Z', 'ingestedTimestamp': '2023-06-14T12:57:55.832Z', 'incoming': {'deviceGuid': 'd24db1a5-c52f-4f13-98b0-21d06fd1d54c', 'channel': 'temperatura'}, 'payload': {'deviceId': 'My_favorite_thermometer', 'metric': 'Celsius', 'value': 12.93761253}}, {'timestamp': '2023-06-14T12:57:57.712Z', 'ingestedTimestamp': '2023-06-14T12:57:57.712Z', 'incoming': {'deviceGuid': 'd24db1a5-c52f-4f13-98b0-21d06fd1d54c', 'channel': 'temperatura'}, 'payload': {'deviceId': 'My_favorite_thermometer', 'metric': 'Celsius', 'value': 13.08203983}}, {'timestamp': '2023-06-14T12:57:59.896Z', 'ingestedTimestamp': '2023-06-14T12:57:59.896Z', 'incoming': {'deviceGuid': 'd24db1a5-c52f-4f13-98b0-21d06fd1d54c', 'channel': 'temperatura'}, 'payload': {'deviceId': 'My_favorite_thermometer', 'metric': 'Celsius', 'value': 12.79290771}}, {'timestamp': '2023-06-14T12:58:02.136Z', 'ingestedTimestamp': '2023-06-14T12:58:02.136Z', 'incoming': {'deviceGuid': 'd24db1a5-c52f-4f13-98b0-21d06fd1d54c', 'channel': 'temperatura'}, 'payload': {'deviceId': 'My_favorite_thermometer', 'metric': 'Celsius', 'value': 12.50265503}}, {'timestamp': '2023-06-14T12:58:03.804Z', 'ingestedTimestamp': '2023-06-14T12:58:03.804Z', 'incoming': {'deviceGuid': 'd24db1a5-c52f-4f13-98b0-21d06fd1d54c', 'channel': 'temperatura'}, 'payload': {'deviceId': 'My_favorite_thermometer', 'metric': 'Celsius', 'value': 13.08203983}}, {'timestamp': '2023-06-14T12:58:05.952Z', 'ingestedTimestamp': '2023-06-14T12:58:05.952Z', 'incoming': {'deviceGuid': 'd24db1a5-c52f-4f13-98b0-21d06fd1d54c', 'channel': 'temperatura'}, 'payload': {'deviceId': 'My_favorite_thermometer', 'metric': 'Celsius', 'value': 13.08203983}}, {'timestamp': '2023-06-14T12:58:07.872Z', 'ingestedTimestamp': '2023-06-14T12:58:07.872Z', 'incoming': {'deviceGuid': 'd24db1a5-c52f-4f13-98b0-21d06fd1d54c', 'channel': 'temperatura'}, 'payload': {'deviceId': 'My_favorite_thermometer', 'metric': 'Celsius', 'value': 12.50265503}}, {'timestamp': '2023-06-14T12:58:09.920Z', 'ingestedTimestamp': '2023-06-14T12:58:09.920Z', 'incoming': {'deviceGuid': 'd24db1a5-c52f-4f13-98b0-21d06fd1d54c', 'channel': 'temperatura'}, 'payload': {'deviceId': 'My_favorite_thermometer', 'metric': 'Celsius', 'value': 14.08551693}}, {'timestamp': '2023-06-14T12:58:12.352Z', 'ingestedTimestamp': '2023-06-14T12:58:12.352Z', 'incoming': {'deviceGuid': 'd24db1a5-c52f-4f13-98b0-21d06fd1d54c', 'channel': 'temperatura'}, 'payload': {'deviceId': 'My_favorite_thermometer', 'metric': 'Celsius', 'value': 14.65327263}}, {'timestamp': '2023-06-14T12:58:14.034Z', 'ingestedTimestamp': '2023-06-14T12:58:14.034Z', 'incoming': {'deviceGuid': 'd24db1a5-c52f-4f13-98b0-21d06fd1d54c', 'channel': 'temperatura'}, 'payload': {'deviceId': 'My_favorite_thermometer', 'metric': 'Celsius', 'value': 13.80012226}}, {'timestamp': '2023-06-14T12:58:16.072Z', 'ingestedTimestamp': '2023-06-14T12:58:16.072Z', 'incoming': {'deviceGuid': 'd24db1a5-c52f-4f13-98b0-21d06fd1d54c', 'channel': 'temperatura'}, 'payload': {'deviceId': 'My_favorite_thermometer', 'metric': 'Celsius', 'value': 14.08551693}}, {'timestamp': '2023-06-14T12:58:18.122Z', 'ingestedTimestamp': '2023-06-14T12:58:18.122Z', 'incoming': {'deviceGuid': 'd24db1a5-c52f-4f13-98b0-21d06fd1d54c', 'channel': 'temperatura'}, 'payload': {'deviceId': 'My_favorite_thermometer', 'metric': 'Celsius', 'value': 14.08551693}}, {'timestamp': '2023-06-14T12:58:20.292Z', 'ingestedTimestamp': '2023-06-14T12:58:20.292Z', 'incoming': {'deviceGuid': 'd24db1a5-c52f-4f13-98b0-21d06fd1d54c', 'channel': 'temperatura'}, 'payload': {'deviceId': 'My_favorite_thermometer', 'metric': 'Celsius', 'value': 14.08551693}}, {'timestamp': '2023-06-14T12:58:22.216Z', 'ingestedTimestamp': '2023-06-14T12:58:22.216Z', 'incoming': {'deviceGuid': 'd24db1a5-c52f-4f13-98b0-21d06fd1d54c', 'channel': 'temperatura'}, 'payload': {'deviceId': 'My_favorite_thermometer', 'metric': 'Celsius', 'value': 13.65703869}}, {'timestamp': '2023-06-14T12:58:24.912Z', 'ingestedTimestamp': '2023-06-14T12:58:24.912Z', 'incoming': {'deviceGuid': 'd24db1a5-c52f-4f13-98b0-21d06fd1d54c', 'channel': 'temperatura'}, 'payload': {'deviceId': 'My_favorite_thermometer', 'metric': 'Celsius', 'value': 13.65703869}}, {'timestamp': '2023-06-14T12:58:26.272Z', 'ingestedTimestamp': '2023-06-14T12:58:26.272Z', 'incoming': {'deviceGuid': 'd24db1a5-c52f-4f13-98b0-21d06fd1d54c', 'channel': 'temperatura'}, 'payload': {'deviceId': 'My_favorite_thermometer', 'metric': 'Celsius', 'value': 13.65703869}}, {'timestamp': '2023-06-14T12:58:28.552Z', 'ingestedTimestamp': '2023-06-14T12:58:28.552Z', 'incoming': {'deviceGuid': 'd24db1a5-c52f-4f13-98b0-21d06fd1d54c', 'channel': 'temperatura'}, 'payload': {'deviceId': 'My_favorite_thermometer', 'metric': 'Celsius', 'value': 13.65703869}}, {'timestamp': '2023-06-14T12:58:30.616Z', 'ingestedTimestamp': '2023-06-14T12:58:30.616Z', 'incoming': {'deviceGuid': 'd24db1a5-c52f-4f13-98b0-21d06fd1d54c', 'channel': 'temperatura'}, 'payload': {'deviceId': 'My_favorite_thermometer', 'metric': 'Celsius', 'value': 13.08203983}}, {'timestamp': '2023-06-14T12:58:32.424Z', 'ingestedTimestamp': '2023-06-14T12:58:32.424Z', 'incoming': {'deviceGuid': 'd24db1a5-c52f-4f13-98b0-21d06fd1d54c', 'channel': 'temperatura'}, 'payload': {'deviceId': 'My_favorite_thermometer', 'metric': 'Celsius', 'value': 13.65703869}}, {'timestamp': '2023-06-14T12:58:34.512Z', 'ingestedTimestamp': '2023-06-14T12:58:34.512Z', 'incoming': {'deviceGuid': 'd24db1a5-c52f-4f13-98b0-21d06fd1d54c', 'channel': 'temperatura'}, 'payload': {'deviceId': 'My_favorite_thermometer', 'metric': 'Celsius', 'value': 13.22619247}}, {'timestamp': '2023-06-14T12:58:36.833Z', 'ingestedTimestamp': '2023-06-14T12:58:36.833Z', 'incoming': {'deviceGuid': 'd24db1a5-c52f-4f13-98b0-21d06fd1d54c', 'channel': 'temperatura'}, 'payload': {'deviceId': 'My_favorite_thermometer', 'metric': 'Celsius', 'value': 13.65703869}}, {'timestamp': '2023-06-14T12:58:38.552Z', 'ingestedTimestamp': '2023-06-14T12:58:38.552Z', 'incoming': {'deviceGuid': 'd24db1a5-c52f-4f13-98b0-21d06fd1d54c', 'channel': 'temperatura'}, 'payload': {'deviceId': 'My_favorite_thermometer', 'metric': 'Celsius', 'value': 13.08203983}}, {'timestamp': '2023-06-14T12:58:40.601Z', 'ingestedTimestamp': '2023-06-14T12:58:40.601Z', 'incoming': {'deviceGuid': 'd24db1a5-c52f-4f13-98b0-21d06fd1d54c', 'channel': 'temperatura'}, 'payload': {'deviceId': 'My_favorite_thermometer', 'metric': 'Celsius', 'value': 13.65703869}}, {'timestamp': '2023-06-14T12:58:42.631Z', 'ingestedTimestamp': '2023-06-14T12:58:42.631Z', 'incoming': {'deviceGuid': 'd24db1a5-c52f-4f13-98b0-21d06fd1d54c', 'channel': 'temperatura'}, 'payload': {'deviceId': 'My_favorite_thermometer', 'metric': 'Celsius', 'value': 13.65703869}}, {'timestamp': '2023-06-14T12:58:44.712Z', 'ingestedTimestamp': '2023-06-14T12:58:44.712Z', 'incoming': {'deviceGuid': 'd24db1a5-c52f-4f13-98b0-21d06fd1d54c', 'channel': 'temperatura'}, 'payload': {'deviceId': 'My_favorite_thermometer', 'metric': 'Celsius', 'value': 13.65703869}}, {'timestamp': '2023-06-14T12:58:46.736Z', 'ingestedTimestamp': '2023-06-14T12:58:46.736Z', 'incoming': {'deviceGuid': 'd24db1a5-c52f-4f13-98b0-21d06fd1d54c', 'channel': 'temperatura'}, 'payload': {'deviceId': 'My_favorite_thermometer', 'metric': 'Celsius', 'value': 13.65703869}}, {'timestamp': '2023-06-14T12:58:49.592Z', 'ingestedTimestamp': '2023-06-14T12:58:49.592Z', 'incoming': {'deviceGuid': 'd24db1a5-c52f-4f13-98b0-21d06fd1d54c', 'channel': 'temperatura'}, 'payload': {'deviceId': 'My_favorite_thermometer', 'metric': 'Celsius', 'value': 13.65703869}}, {'timestamp': '2023-06-14T12:58:51.312Z', 'ingestedTimestamp': '2023-06-14T12:58:51.312Z', 'incoming': {'deviceGuid': 'd24db1a5-c52f-4f13-98b0-21d06fd1d54c', 'channel': 'temperatura'}, 'payload': {'deviceId': 'My_favorite_thermometer', 'metric': 'Celsius', 'value': 13.51368809}}, {'timestamp': '2023-06-14T12:58:53.200Z', 'ingestedTimestamp': '2023-06-14T12:58:53.200Z', 'incoming': {'deviceGuid': 'd24db1a5-c52f-4f13-98b0-21d06fd1d54c', 'channel': 'temperatura'}, 'payload': {'deviceId': 'My_favorite_thermometer', 'metric': 'Celsius', 'value': 13.08203983}}, {'timestamp': '2023-06-14T12:58:54.951Z', 'ingestedTimestamp': '2023-06-14T12:58:54.951Z', 'incoming': {'deviceGuid': 'd24db1a5-c52f-4f13-98b0-21d06fd1d54c', 'channel': 'temperatura'}, 'payload': {'deviceId': 'My_favorite_thermometer', 'metric': 'Celsius', 'value': 13.22619247}}, {'timestamp': '2023-06-14T12:58:57.351Z', 'ingestedTimestamp': '2023-06-14T12:58:57.351Z', 'incoming': {'deviceGuid': 'd24db1a5-c52f-4f13-98b0-21d06fd1d54c', 'channel': 'temperatura'}, 'payload': {'deviceId': 'My_favorite_thermometer', 'metric': 'Celsius', 'value': 12.93761253}}, {'timestamp': '2023-06-14T12:58:58.991Z', 'ingestedTimestamp': '2023-06-14T12:58:58.991Z', 'incoming': {'deviceGuid': 'd24db1a5-c52f-4f13-98b0-21d06fd1d54c', 'channel': 'temperatura'}, 'payload': {'deviceId': 'My_favorite_thermometer', 'metric': 'Celsius', 'value': 12.64792156}}, {'timestamp': '2023-06-14T12:59:01.032Z', 'ingestedTimestamp': '2023-06-14T12:59:01.032Z', 'incoming': {'deviceGuid': 'd24db1a5-c52f-4f13-98b0-21d06fd1d54c', 'channel': 'temperatura'}, 'payload': {'deviceId': 'My_favorite_thermometer', 'metric': 'Celsius', 'value': 13.08203983}}, {'timestamp': '2023-06-14T12:59:03.152Z', 'ingestedTimestamp': '2023-06-14T12:59:03.152Z', 'incoming': {'deviceGuid': 'd24db1a5-c52f-4f13-98b0-21d06fd1d54c', 'channel': 'temperatura'}, 'payload': {'deviceId': 'My_favorite_thermometer', 'metric': 'Celsius', 'value': 13.08203983}}, {'timestamp': '2023-06-14T12:59:05.673Z', 'ingestedTimestamp': '2023-06-14T12:59:05.673Z', 'incoming': {'deviceGuid': 'd24db1a5-c52f-4f13-98b0-21d06fd1d54c', 'channel': 'temperatura'}, 'payload': {'deviceId': 'My_favorite_thermometer', 'metric': 'Celsius', 'value': 13.08203983}}, {'timestamp': '2023-06-14T12:59:07.512Z', 'ingestedTimestamp': '2023-06-14T12:59:07.512Z', 'incoming': {'deviceGuid': 'd24db1a5-c52f-4f13-98b0-21d06fd1d54c', 'channel': 'temperatura'}, 'payload': {'deviceId': 'My_favorite_thermometer', 'metric': 'Celsius', 'value': 12.35710144}}, {'timestamp': '2023-06-14T12:59:09.432Z', 'ingestedTimestamp': '2023-06-14T12:59:09.432Z', 'incoming': {'deviceGuid': 'd24db1a5-c52f-4f13-98b0-21d06fd1d54c', 'channel': 'temperatura'}, 'payload': {'deviceId': 'My_favorite_thermometer', 'metric': 'Celsius', 'value': 12.93761253}}]\n"
          ]
        }
      ],
      "source": [
        "canal = 'temperatura'\n",
        "dt_start = arrow.utcnow().to('America/Sao_Paulo').floor('day')\n",
        "dt_start = dt_start.shift(days=-1)\n",
        "stats = oauth.get(\"https://api.demo.konkerlabs.net/v1/{}/incomingEvents?q=device:{} channel:{} timestamp:>{}&sort=oldest&limit=10000\".format(application,guid_term,canal,dt_start.isoformat())).json()['result']\n",
        "print(stats)"
      ]
    },
    {
      "attachments": {},
      "cell_type": "markdown",
      "metadata": {
        "id": "VxDoKYnufyXB"
      },
      "source": [
        "Caso tudo tenha funcionado como esperado, você deve estar vendo seus dados de temperatura logo acima. Para facilitar a visualização e análise dos dados, podemos transformar em um formato tabular com o Pandas."
      ]
    },
    {
      "cell_type": "code",
      "execution_count": 11,
      "metadata": {
        "id": "FC1U5FjqfyXB"
      },
      "outputs": [
        {
          "name": "stderr",
          "output_type": "stream",
          "text": [
            "<ipython-input-11-fa95c8e0b6cb>:2: FutureWarning: pandas.io.json.json_normalize is deprecated, use pandas.json_normalize instead.\n",
            "  stats_df = json_normalize(stats).set_index('timestamp')\n"
          ]
        },
        {
          "data": {
            "text/html": [
              "<div>\n",
              "<style scoped>\n",
              "    .dataframe tbody tr th:only-of-type {\n",
              "        vertical-align: middle;\n",
              "    }\n",
              "\n",
              "    .dataframe tbody tr th {\n",
              "        vertical-align: top;\n",
              "    }\n",
              "\n",
              "    .dataframe thead th {\n",
              "        text-align: right;\n",
              "    }\n",
              "</style>\n",
              "<table border=\"1\" class=\"dataframe\">\n",
              "  <thead>\n",
              "    <tr style=\"text-align: right;\">\n",
              "      <th></th>\n",
              "      <th>ingestedTimestamp</th>\n",
              "      <th>incoming.deviceGuid</th>\n",
              "      <th>incoming.channel</th>\n",
              "      <th>payload.deviceId</th>\n",
              "      <th>payload.metric</th>\n",
              "      <th>payload.value</th>\n",
              "    </tr>\n",
              "    <tr>\n",
              "      <th>timestamp</th>\n",
              "      <th></th>\n",
              "      <th></th>\n",
              "      <th></th>\n",
              "      <th></th>\n",
              "      <th></th>\n",
              "      <th></th>\n",
              "    </tr>\n",
              "  </thead>\n",
              "  <tbody>\n",
              "    <tr>\n",
              "      <th>2023-06-14T12:52:53.112Z</th>\n",
              "      <td>2023-06-14T12:52:53.112Z</td>\n",
              "      <td>d24db1a5-c52f-4f13-98b0-21d06fd1d54c</td>\n",
              "      <td>temperatura</td>\n",
              "      <td>My_favorite_thermometer</td>\n",
              "      <td>Celsius</td>\n",
              "      <td>13.082040</td>\n",
              "    </tr>\n",
              "    <tr>\n",
              "      <th>2023-06-14T12:52:55.152Z</th>\n",
              "      <td>2023-06-14T12:52:55.152Z</td>\n",
              "      <td>d24db1a5-c52f-4f13-98b0-21d06fd1d54c</td>\n",
              "      <td>temperatura</td>\n",
              "      <td>My_favorite_thermometer</td>\n",
              "      <td>Celsius</td>\n",
              "      <td>13.082040</td>\n",
              "    </tr>\n",
              "    <tr>\n",
              "      <th>2023-06-14T12:52:57.355Z</th>\n",
              "      <td>2023-06-14T12:52:57.355Z</td>\n",
              "      <td>d24db1a5-c52f-4f13-98b0-21d06fd1d54c</td>\n",
              "      <td>temperatura</td>\n",
              "      <td>My_favorite_thermometer</td>\n",
              "      <td>Celsius</td>\n",
              "      <td>12.502655</td>\n",
              "    </tr>\n",
              "    <tr>\n",
              "      <th>2023-06-14T12:52:59.203Z</th>\n",
              "      <td>2023-06-14T12:52:59.203Z</td>\n",
              "      <td>d24db1a5-c52f-4f13-98b0-21d06fd1d54c</td>\n",
              "      <td>temperatura</td>\n",
              "      <td>My_favorite_thermometer</td>\n",
              "      <td>Celsius</td>\n",
              "      <td>12.357101</td>\n",
              "    </tr>\n",
              "    <tr>\n",
              "      <th>2023-06-14T12:53:01.278Z</th>\n",
              "      <td>2023-06-14T12:53:01.278Z</td>\n",
              "      <td>d24db1a5-c52f-4f13-98b0-21d06fd1d54c</td>\n",
              "      <td>temperatura</td>\n",
              "      <td>My_favorite_thermometer</td>\n",
              "      <td>Celsius</td>\n",
              "      <td>12.357101</td>\n",
              "    </tr>\n",
              "    <tr>\n",
              "      <th>...</th>\n",
              "      <td>...</td>\n",
              "      <td>...</td>\n",
              "      <td>...</td>\n",
              "      <td>...</td>\n",
              "      <td>...</td>\n",
              "      <td>...</td>\n",
              "    </tr>\n",
              "    <tr>\n",
              "      <th>2023-06-14T12:59:01.032Z</th>\n",
              "      <td>2023-06-14T12:59:01.032Z</td>\n",
              "      <td>d24db1a5-c52f-4f13-98b0-21d06fd1d54c</td>\n",
              "      <td>temperatura</td>\n",
              "      <td>My_favorite_thermometer</td>\n",
              "      <td>Celsius</td>\n",
              "      <td>13.082040</td>\n",
              "    </tr>\n",
              "    <tr>\n",
              "      <th>2023-06-14T12:59:03.152Z</th>\n",
              "      <td>2023-06-14T12:59:03.152Z</td>\n",
              "      <td>d24db1a5-c52f-4f13-98b0-21d06fd1d54c</td>\n",
              "      <td>temperatura</td>\n",
              "      <td>My_favorite_thermometer</td>\n",
              "      <td>Celsius</td>\n",
              "      <td>13.082040</td>\n",
              "    </tr>\n",
              "    <tr>\n",
              "      <th>2023-06-14T12:59:05.673Z</th>\n",
              "      <td>2023-06-14T12:59:05.673Z</td>\n",
              "      <td>d24db1a5-c52f-4f13-98b0-21d06fd1d54c</td>\n",
              "      <td>temperatura</td>\n",
              "      <td>My_favorite_thermometer</td>\n",
              "      <td>Celsius</td>\n",
              "      <td>13.082040</td>\n",
              "    </tr>\n",
              "    <tr>\n",
              "      <th>2023-06-14T12:59:07.512Z</th>\n",
              "      <td>2023-06-14T12:59:07.512Z</td>\n",
              "      <td>d24db1a5-c52f-4f13-98b0-21d06fd1d54c</td>\n",
              "      <td>temperatura</td>\n",
              "      <td>My_favorite_thermometer</td>\n",
              "      <td>Celsius</td>\n",
              "      <td>12.357101</td>\n",
              "    </tr>\n",
              "    <tr>\n",
              "      <th>2023-06-14T12:59:09.432Z</th>\n",
              "      <td>2023-06-14T12:59:09.432Z</td>\n",
              "      <td>d24db1a5-c52f-4f13-98b0-21d06fd1d54c</td>\n",
              "      <td>temperatura</td>\n",
              "      <td>My_favorite_thermometer</td>\n",
              "      <td>Celsius</td>\n",
              "      <td>12.937613</td>\n",
              "    </tr>\n",
              "  </tbody>\n",
              "</table>\n",
              "<p>185 rows × 6 columns</p>\n",
              "</div>"
            ],
            "text/plain": [
              "                                 ingestedTimestamp  \\\n",
              "timestamp                                            \n",
              "2023-06-14T12:52:53.112Z  2023-06-14T12:52:53.112Z   \n",
              "2023-06-14T12:52:55.152Z  2023-06-14T12:52:55.152Z   \n",
              "2023-06-14T12:52:57.355Z  2023-06-14T12:52:57.355Z   \n",
              "2023-06-14T12:52:59.203Z  2023-06-14T12:52:59.203Z   \n",
              "2023-06-14T12:53:01.278Z  2023-06-14T12:53:01.278Z   \n",
              "...                                            ...   \n",
              "2023-06-14T12:59:01.032Z  2023-06-14T12:59:01.032Z   \n",
              "2023-06-14T12:59:03.152Z  2023-06-14T12:59:03.152Z   \n",
              "2023-06-14T12:59:05.673Z  2023-06-14T12:59:05.673Z   \n",
              "2023-06-14T12:59:07.512Z  2023-06-14T12:59:07.512Z   \n",
              "2023-06-14T12:59:09.432Z  2023-06-14T12:59:09.432Z   \n",
              "\n",
              "                                           incoming.deviceGuid  \\\n",
              "timestamp                                                        \n",
              "2023-06-14T12:52:53.112Z  d24db1a5-c52f-4f13-98b0-21d06fd1d54c   \n",
              "2023-06-14T12:52:55.152Z  d24db1a5-c52f-4f13-98b0-21d06fd1d54c   \n",
              "2023-06-14T12:52:57.355Z  d24db1a5-c52f-4f13-98b0-21d06fd1d54c   \n",
              "2023-06-14T12:52:59.203Z  d24db1a5-c52f-4f13-98b0-21d06fd1d54c   \n",
              "2023-06-14T12:53:01.278Z  d24db1a5-c52f-4f13-98b0-21d06fd1d54c   \n",
              "...                                                        ...   \n",
              "2023-06-14T12:59:01.032Z  d24db1a5-c52f-4f13-98b0-21d06fd1d54c   \n",
              "2023-06-14T12:59:03.152Z  d24db1a5-c52f-4f13-98b0-21d06fd1d54c   \n",
              "2023-06-14T12:59:05.673Z  d24db1a5-c52f-4f13-98b0-21d06fd1d54c   \n",
              "2023-06-14T12:59:07.512Z  d24db1a5-c52f-4f13-98b0-21d06fd1d54c   \n",
              "2023-06-14T12:59:09.432Z  d24db1a5-c52f-4f13-98b0-21d06fd1d54c   \n",
              "\n",
              "                         incoming.channel         payload.deviceId  \\\n",
              "timestamp                                                            \n",
              "2023-06-14T12:52:53.112Z      temperatura  My_favorite_thermometer   \n",
              "2023-06-14T12:52:55.152Z      temperatura  My_favorite_thermometer   \n",
              "2023-06-14T12:52:57.355Z      temperatura  My_favorite_thermometer   \n",
              "2023-06-14T12:52:59.203Z      temperatura  My_favorite_thermometer   \n",
              "2023-06-14T12:53:01.278Z      temperatura  My_favorite_thermometer   \n",
              "...                                   ...                      ...   \n",
              "2023-06-14T12:59:01.032Z      temperatura  My_favorite_thermometer   \n",
              "2023-06-14T12:59:03.152Z      temperatura  My_favorite_thermometer   \n",
              "2023-06-14T12:59:05.673Z      temperatura  My_favorite_thermometer   \n",
              "2023-06-14T12:59:07.512Z      temperatura  My_favorite_thermometer   \n",
              "2023-06-14T12:59:09.432Z      temperatura  My_favorite_thermometer   \n",
              "\n",
              "                         payload.metric  payload.value  \n",
              "timestamp                                               \n",
              "2023-06-14T12:52:53.112Z        Celsius      13.082040  \n",
              "2023-06-14T12:52:55.152Z        Celsius      13.082040  \n",
              "2023-06-14T12:52:57.355Z        Celsius      12.502655  \n",
              "2023-06-14T12:52:59.203Z        Celsius      12.357101  \n",
              "2023-06-14T12:53:01.278Z        Celsius      12.357101  \n",
              "...                                 ...            ...  \n",
              "2023-06-14T12:59:01.032Z        Celsius      13.082040  \n",
              "2023-06-14T12:59:03.152Z        Celsius      13.082040  \n",
              "2023-06-14T12:59:05.673Z        Celsius      13.082040  \n",
              "2023-06-14T12:59:07.512Z        Celsius      12.357101  \n",
              "2023-06-14T12:59:09.432Z        Celsius      12.937613  \n",
              "\n",
              "[185 rows x 6 columns]"
            ]
          },
          "execution_count": 11,
          "metadata": {},
          "output_type": "execute_result"
        }
      ],
      "source": [
        "from pandas.io.json import json_normalize\n",
        "stats_df = json_normalize(stats).set_index('timestamp')\n",
        "stats_df = stats_df[3:]\n",
        "stats_df"
      ]
    },
    {
      "attachments": {},
      "cell_type": "markdown",
      "metadata": {
        "id": "U_d0hXZCfyXB"
      },
      "source": [
        "Ótimo! Agora os dados estão em um formato mais fácil de ler. Mas podemos também fazer um gráfico bem simples!"
      ]
    },
    {
      "cell_type": "code",
      "execution_count": 12,
      "metadata": {
        "id": "IZfZMtytfyXC"
      },
      "outputs": [
        {
          "data": {
            "image/png": "[encoded data removed]",
            "text/plain": [
              "<Figure size 1080x288 with 1 Axes>"
            ]
          },
          "metadata": {
            "needs_background": "light"
          },
          "output_type": "display_data"
        }
      ],
      "source": [
        "%matplotlib inline\n",
        "import matplotlib.pyplot as plt\n",
        "plt.figure(figsize=(15,4))\n",
        "\n",
        "stats_df['payload.value'].plot();"
      ]
    },
    {
      "attachments": {},
      "cell_type": "markdown",
      "metadata": {
        "id": "Qy-Yx2C3fyXC"
      },
      "source": [
        "Agora começa a parte final desse trabalho. Vamos rodar um algoritmo conhecido com KMeans de aprendizado não supervisionado tentando encontrar os dois clusters que melhor separam nosso dataset. Como você pode observar abaixo, estamos usando a biblioteca SKLearn do Python para isso."
      ]
    },
    {
      "cell_type": "code",
      "execution_count": 14,
      "metadata": {
        "id": "hf6ROQ-9fyXC"
      },
      "outputs": [
        {
          "name": "stderr",
          "output_type": "stream",
          "text": [
            "C:\\Users\\Elton\\AppData\\Local\\Packages\\PythonSoftwareFoundation.Python.3.9_qbz5n2kfra8p0\\LocalCache\\local-packages\\Python39\\site-packages\\sklearn\\cluster\\_kmeans.py:870: FutureWarning: The default value of `n_init` will change from 10 to 'auto' in 1.4. Set the value of `n_init` explicitly to suppress the warning\n",
            "  warnings.warn(\n"
          ]
        },
        {
          "data": {
            "text/html": [
              "<style>#sk-container-id-1 {color: black;background-color: white;}#sk-container-id-1 pre{padding: 0;}#sk-container-id-1 div.sk-toggleable {background-color: white;}#sk-container-id-1 label.sk-toggleable__label {cursor: pointer;display: block;width: 100%;margin-bottom: 0;padding: 0.3em;box-sizing: border-box;text-align: center;}#sk-container-id-1 label.sk-toggleable__label-arrow:before {content: \"▸\";float: left;margin-right: 0.25em;color: #696969;}#sk-container-id-1 label.sk-toggleable__label-arrow:hover:before {color: black;}#sk-container-id-1 div.sk-estimator:hover label.sk-toggleable__label-arrow:before {color: black;}#sk-container-id-1 div.sk-toggleable__content {max-height: 0;max-width: 0;overflow: hidden;text-align: left;background-color: #f0f8ff;}#sk-container-id-1 div.sk-toggleable__content pre {margin: 0.2em;color: black;border-radius: 0.25em;background-color: #f0f8ff;}#sk-container-id-1 input.sk-toggleable__control:checked~div.sk-toggleable__content {max-height: 200px;max-width: 100%;overflow: auto;}#sk-container-id-1 input.sk-toggleable__control:checked~label.sk-toggleable__label-arrow:before {content: \"▾\";}#sk-container-id-1 div.sk-estimator input.sk-toggleable__control:checked~label.sk-toggleable__label {background-color: #d4ebff;}#sk-container-id-1 div.sk-label input.sk-toggleable__control:checked~label.sk-toggleable__label {background-color: #d4ebff;}#sk-container-id-1 input.sk-hidden--visually {border: 0;clip: rect(1px 1px 1px 1px);clip: rect(1px, 1px, 1px, 1px);height: 1px;margin: -1px;overflow: hidden;padding: 0;position: absolute;width: 1px;}#sk-container-id-1 div.sk-estimator {font-family: monospace;background-color: #f0f8ff;border: 1px dotted black;border-radius: 0.25em;box-sizing: border-box;margin-bottom: 0.5em;}#sk-container-id-1 div.sk-estimator:hover {background-color: #d4ebff;}#sk-container-id-1 div.sk-parallel-item::after {content: \"\";width: 100%;border-bottom: 1px solid gray;flex-grow: 1;}#sk-container-id-1 div.sk-label:hover label.sk-toggleable__label {background-color: #d4ebff;}#sk-container-id-1 div.sk-serial::before {content: \"\";position: absolute;border-left: 1px solid gray;box-sizing: border-box;top: 0;bottom: 0;left: 50%;z-index: 0;}#sk-container-id-1 div.sk-serial {display: flex;flex-direction: column;align-items: center;background-color: white;padding-right: 0.2em;padding-left: 0.2em;position: relative;}#sk-container-id-1 div.sk-item {position: relative;z-index: 1;}#sk-container-id-1 div.sk-parallel {display: flex;align-items: stretch;justify-content: center;background-color: white;position: relative;}#sk-container-id-1 div.sk-item::before, #sk-container-id-1 div.sk-parallel-item::before {content: \"\";position: absolute;border-left: 1px solid gray;box-sizing: border-box;top: 0;bottom: 0;left: 50%;z-index: -1;}#sk-container-id-1 div.sk-parallel-item {display: flex;flex-direction: column;z-index: 1;position: relative;background-color: white;}#sk-container-id-1 div.sk-parallel-item:first-child::after {align-self: flex-end;width: 50%;}#sk-container-id-1 div.sk-parallel-item:last-child::after {align-self: flex-start;width: 50%;}#sk-container-id-1 div.sk-parallel-item:only-child::after {width: 0;}#sk-container-id-1 div.sk-dashed-wrapped {border: 1px dashed gray;margin: 0 0.4em 0.5em 0.4em;box-sizing: border-box;padding-bottom: 0.4em;background-color: white;}#sk-container-id-1 div.sk-label label {font-family: monospace;font-weight: bold;display: inline-block;line-height: 1.2em;}#sk-container-id-1 div.sk-label-container {text-align: center;}#sk-container-id-1 div.sk-container {/* jupyter's `normalize.less` sets `[hidden] { display: none; }` but bootstrap.min.css set `[hidden] { display: none !important; }` so we also need the `!important` here to be able to override the default hidden behavior on the sphinx rendered scikit-learn.org. See: https://github.com/scikit-learn/scikit-learn/issues/21755 */display: inline-block !important;position: relative;}#sk-container-id-1 div.sk-text-repr-fallback {display: none;}</style><div id=\"sk-container-id-1\" class=\"sk-top-container\"><div class=\"sk-text-repr-fallback\"><pre>KMeans(n_clusters=2)</pre><b>In a Jupyter environment, please rerun this cell to show the HTML representation or trust the notebook. <br />On GitHub, the HTML representation is unable to render, please try loading this page with nbviewer.org.</b></div><div class=\"sk-container\" hidden><div class=\"sk-item\"><div class=\"sk-estimator sk-toggleable\"><input class=\"sk-toggleable__control sk-hidden--visually\" id=\"sk-estimator-id-1\" type=\"checkbox\" checked><label for=\"sk-estimator-id-1\" class=\"sk-toggleable__label sk-toggleable__label-arrow\">KMeans</label><div class=\"sk-toggleable__content\"><pre>KMeans(n_clusters=2)</pre></div></div></div></div></div>"
            ],
            "text/plain": [
              "KMeans(n_clusters=2)"
            ]
          },
          "execution_count": 14,
          "metadata": {},
          "output_type": "execute_result"
        }
      ],
      "source": [
        "from sklearn.cluster import KMeans\n",
        "kmeans = KMeans(n_clusters=2)\n",
        "kmeans.fit(stats_df['payload.value'].values.reshape(-1, 1))"
      ]
    },
    {
      "attachments": {},
      "cell_type": "markdown",
      "metadata": {
        "id": "4zODbA3nfyXC"
      },
      "source": [
        "Nós colocamos como condição a separação em 2 clusters. Vamos ver qual a previsão feita sobre os dados adquiridos:"
      ]
    },
    {
      "cell_type": "code",
      "execution_count": 15,
      "metadata": {
        "id": "tH5uvZ_ofyXC"
      },
      "outputs": [
        {
          "data": {
            "text/plain": [
              "array([1, 1, 1, 1, 1, 1, 1, 1, 1, 1, 1, 1, 1, 1, 1, 1, 1, 1, 1, 1, 1, 1,\n",
              "       1, 1, 1, 1, 1, 1, 1, 1, 1, 1, 1, 1, 1, 1, 1, 1, 1, 1, 1, 1, 1, 1,\n",
              "       1, 1, 1, 1, 1, 1, 1, 1, 1, 1, 1, 1, 1, 1, 1, 1, 1, 1, 1, 1, 1, 1,\n",
              "       1, 1, 1, 1, 1, 1, 1, 1, 1, 1, 1, 0, 0, 0, 0, 0, 0, 0, 0, 0, 0, 0,\n",
              "       0, 0, 0, 0, 0, 0, 0, 0, 0, 0, 0, 0, 0, 0, 0, 0, 1, 1, 1, 1, 1, 1,\n",
              "       1, 1, 1, 1, 1, 1, 1, 1, 1, 1, 1, 1, 1, 1, 1, 1, 1, 1, 1, 1, 1, 1,\n",
              "       1, 1, 1, 1, 1, 1, 1, 1, 1, 1, 1, 1, 1, 1, 1, 1, 1, 1, 1, 1, 1, 1,\n",
              "       1, 1, 0, 1, 1, 1, 1, 1, 1, 1, 1, 1, 1, 1, 1, 1, 1, 1, 1, 1, 1, 1,\n",
              "       1, 1, 1, 1, 1, 1, 1, 1, 1])"
            ]
          },
          "execution_count": 15,
          "metadata": {},
          "output_type": "execute_result"
        }
      ],
      "source": [
        "predictions = kmeans.predict(stats_df['payload.value'].values.reshape(-1, 1))\n",
        "predictions"
      ]
    },
    {
      "attachments": {},
      "cell_type": "markdown",
      "metadata": {
        "id": "jVMV_EEdfyXD"
      },
      "source": [
        "Vamos observar a temperatura média do primeiro cluster de dados (grupo 0):"
      ]
    },
    {
      "cell_type": "code",
      "execution_count": 16,
      "metadata": {
        "id": "tqnPpUASfyXD"
      },
      "outputs": [
        {
          "name": "stdout",
          "output_type": "stream",
          "text": [
            "Temperatura média do grupo 0: 15.599770785714286 C\n"
          ]
        }
      ],
      "source": [
        "print('Temperatura média do grupo 0: ' + str(stats_df.loc[predictions == 0]['payload.value'].mean()) + ' C')"
      ]
    },
    {
      "cell_type": "code",
      "execution_count": 18,
      "metadata": {},
      "outputs": [
        {
          "data": {
            "text/plain": [
              "[<matplotlib.lines.Line2D at 0x27d0e0fbc70>]"
            ]
          },
          "execution_count": 18,
          "metadata": {},
          "output_type": "execute_result"
        },
        {
          "data": {
            "image/png": "[encoded data removed]",
            "text/plain": [
              "<Figure size 1080x288 with 1 Axes>"
            ]
          },
          "metadata": {
            "needs_background": "light"
          },
          "output_type": "display_data"
        }
      ],
      "source": [
        "import matplotlib.pyplot as plt\n",
        "plt.figure(figsize=(15,4))\n",
        "\n",
        "stats_df['payload.value'].plot();\n",
        "plt.plot(predictions+stats_df['payload.value'].mean())"
      ]
    },
    {
      "attachments": {},
      "cell_type": "markdown",
      "metadata": {
        "id": "a5Dm2PnRE3FF"
      },
      "source": [
        "##**Pergunta 2: O que representa o grupo 0 de temperaturas?**"
      ]
    },
    {
      "attachments": {},
      "cell_type": "markdown",
      "metadata": {
        "id": "kK8_5nTpFD6f"
      },
      "source": [
        "O grupo 0 representa as temperaturas enquanto o termistor estava sendo segurado"
      ]
    },
    {
      "attachments": {},
      "cell_type": "markdown",
      "metadata": {
        "id": "TSBUUb3SfyXD"
      },
      "source": [
        "E agora a temperatura média do segundo cluster (grupo 1):"
      ]
    },
    {
      "cell_type": "code",
      "execution_count": 19,
      "metadata": {
        "id": "h6rCF20-fyXD"
      },
      "outputs": [
        {
          "name": "stdout",
          "output_type": "stream",
          "text": [
            "Temperatura média do grupo 1: 12.944341767388535 C\n"
          ]
        }
      ],
      "source": [
        "print('Temperatura média do grupo 1: ' + str(stats_df.loc[predictions == 1]['payload.value'].mean()) + ' C')"
      ]
    },
    {
      "attachments": {},
      "cell_type": "markdown",
      "metadata": {
        "id": "TEGzeocFFHXS"
      },
      "source": [
        "##**Pergunta 3: O que representa o grupo 1 de temperaturas?**"
      ]
    },
    {
      "attachments": {},
      "cell_type": "markdown",
      "metadata": {
        "id": "zz63bHnVFJ5k"
      },
      "source": [
        "O grupo 1 representa as temperaturas enquanto o termistor não estava sendo segurado."
      ]
    },
    {
      "attachments": {},
      "cell_type": "markdown",
      "metadata": {
        "id": "y7f8FxbrfyXD"
      },
      "source": [
        "Vamos ver agora como se comportam os dois clusters encontrados em um gráfico.\n",
        "\n",
        "Nota: Nessa segunda versão do Notebook estou usando a biblioteca Bokeh para tentar evitar o gargalo em processamento gerado pelo Matplotlib na sala de aula. Caso você ainda encontre problemas em gerar o gráfico, por favor me envie um email em luis@konkerlabs.com"
      ]
    },
    {
      "cell_type": "code",
      "execution_count": 20,
      "metadata": {
        "id": "F0_TKGxVfyXD"
      },
      "outputs": [
        {
          "data": {
            "text/html": [
              "<style>\n",
              "        .bk-notebook-logo {\n",
              "            display: block;\n",
              "            width: 20px;\n",
              "            height: 20px;\n",
              "            background-image: url(data:image/png;base64,iVBORw0KGgoAAAANSUhEUgAAABQAAAAUCAYAAACNiR0NAAAABHNCSVQICAgIfAhkiAAAAAlwSFlzAAALEgAACxIB0t1+/AAAABx0RVh0U29mdHdhcmUAQWRvYmUgRmlyZXdvcmtzIENTNui8sowAAAOkSURBVDiNjZRtaJVlGMd/1/08zzln5zjP1LWcU9N0NkN8m2CYjpgQYQXqSs0I84OLIC0hkEKoPtiH3gmKoiJDU7QpLgoLjLIQCpEsNJ1vqUOdO7ppbuec5+V+rj4ctwzd8IIbbi6u+8f1539dt3A78eXC7QizUF7gyV1fD1Yqg4JWz84yffhm0qkFqBogB9rM8tZdtwVsPUhWhGcFJngGeWrPzHm5oaMmkfEg1usvLFyc8jLRqDOMru7AyC8saQr7GG7f5fvDeH7Ej8CM66nIF+8yngt6HWaKh7k49Soy9nXurCi1o3qUbS3zWfrYeQDTB/Qj6kX6Ybhw4B+bOYoLKCC9H3Nu/leUTZ1JdRWkkn2ldcCamzrcf47KKXdAJllSlxAOkRgyHsGC/zRday5Qld9DyoM4/q/rUoy/CXh3jzOu3bHUVZeU+DEn8FInkPBFlu3+nW3Nw0mk6vCDiWg8CeJaxEwuHS3+z5RgY+YBR6V1Z1nxSOfoaPa4LASWxxdNp+VWTk7+4vzaou8v8PN+xo+KY2xsw6une2frhw05CTYOmQvsEhjhWjn0bmXPjpE1+kplmmkP3suftwTubK9Vq22qKmrBhpY4jvd5afdRA3wGjFAgcnTK2s4hY0/GPNIb0nErGMCRxWOOX64Z8RAC4oCXdklmEvcL8o0BfkNK4lUg9HTl+oPlQxdNo3Mg4Nv175e/1LDGzZen30MEjRUtmXSfiTVu1kK8W4txyV6BMKlbgk3lMwYCiusNy9fVfvvwMxv8Ynl6vxoByANLTWplvuj/nF9m2+PDtt1eiHPBr1oIfhCChQMBw6Aw0UulqTKZdfVvfG7VcfIqLG9bcldL/+pdWTLxLUy8Qq38heUIjh4XlzZxzQm19lLFlr8vdQ97rjZVOLf8nclzckbcD4wxXMidpX30sFd37Fv/GtwwhzhxGVAprjbg0gCAEeIgwCZyTV2Z1REEW8O4py0wsjeloKoMr6iCY6dP92H6Vw/oTyICIthibxjm/DfN9lVz8IqtqKYLUXfoKVMVQVVJOElGjrnnUt9T9wbgp8AyYKaGlqingHZU/uG2NTZSVqwHQTWkx9hxjkpWDaCg6Ckj5qebgBVbT3V3NNXMSiWSDdGV3hrtzla7J+duwPOToIg42ChPQOQjspnSlp1V+Gjdged7+8UN5CRAV7a5EdFNwCjEaBR27b3W890TE7g24NAP/mMDXRWrGoFPQI9ls/MWO2dWFAar/xcOIImbbpA3zgAAAABJRU5ErkJggg==);\n",
              "        }\n",
              "    </style>\n",
              "    <div>\n",
              "        <a href=\"https://bokeh.org\" target=\"_blank\" class=\"bk-notebook-logo\"></a>\n",
              "        <span id=\"bf7ae600-8e0d-4eec-83c6-324d7956ebff\">Loading BokehJS ...</span>\n",
              "    </div>\n"
            ]
          },
          "metadata": {},
          "output_type": "display_data"
        },
        {
          "data": {
            "application/javascript": "(function(root) {\n  function now() {\n    return new Date();\n  }\n\n  const force = true;\n\n  if (typeof root._bokeh_onload_callbacks === \"undefined\" || force === true) {\n    root._bokeh_onload_callbacks = [];\n    root._bokeh_is_loading = undefined;\n  }\n\nconst JS_MIME_TYPE = 'application/javascript';\n  const HTML_MIME_TYPE = 'text/html';\n  const EXEC_MIME_TYPE = 'application/vnd.bokehjs_exec.v0+json';\n  const CLASS_NAME = 'output_bokeh rendered_html';\n\n  /**\n   * Render data to the DOM node\n   */\n  function render(props, node) {\n    const script = document.createElement(\"script\");\n    node.appendChild(script);\n  }\n\n  /**\n   * Handle when an output is cleared or removed\n   */\n  function handleClearOutput(event, handle) {\n    const cell = handle.cell;\n\n    const id = cell.output_area._bokeh_element_id;\n    const server_id = cell.output_area._bokeh_server_id;\n    // Clean up Bokeh references\n    if (id != null && id in Bokeh.index) {\n      Bokeh.index[id].model.document.clear();\n      delete Bokeh.index[id];\n    }\n\n    if (server_id !== undefined) {\n      // Clean up Bokeh references\n      const cmd_clean = \"from bokeh.io.state import curstate; print(curstate().uuid_to_server['\" + server_id + \"'].get_sessions()[0].document.roots[0]._id)\";\n      cell.notebook.kernel.execute(cmd_clean, {\n        iopub: {\n          output: function(msg) {\n            const id = msg.content.text.trim();\n            if (id in Bokeh.index) {\n              Bokeh.index[id].model.document.clear();\n              delete Bokeh.index[id];\n            }\n          }\n        }\n      });\n      // Destroy server and session\n      const cmd_destroy = \"import bokeh.io.notebook as ion; ion.destroy_server('\" + server_id + \"')\";\n      cell.notebook.kernel.execute(cmd_destroy);\n    }\n  }\n\n  /**\n   * Handle when a new output is added\n   */\n  function handleAddOutput(event, handle) {\n    const output_area = handle.output_area;\n    const output = handle.output;\n\n    // limit handleAddOutput to display_data with EXEC_MIME_TYPE content only\n    if ((output.output_type != \"display_data\") || (!Object.prototype.hasOwnProperty.call(output.data, EXEC_MIME_TYPE))) {\n      return\n    }\n\n    const toinsert = output_area.element.find(\".\" + CLASS_NAME.split(' ')[0]);\n\n    if (output.metadata[EXEC_MIME_TYPE][\"id\"] !== undefined) {\n      toinsert[toinsert.length - 1].firstChild.textContent = output.data[JS_MIME_TYPE];\n      // store reference to embed id on output_area\n      output_area._bokeh_element_id = output.metadata[EXEC_MIME_TYPE][\"id\"];\n    }\n    if (output.metadata[EXEC_MIME_TYPE][\"server_id\"] !== undefined) {\n      const bk_div = document.createElement(\"div\");\n      bk_div.innerHTML = output.data[HTML_MIME_TYPE];\n      const script_attrs = bk_div.children[0].attributes;\n      for (let i = 0; i < script_attrs.length; i++) {\n        toinsert[toinsert.length - 1].firstChild.setAttribute(script_attrs[i].name, script_attrs[i].value);\n        toinsert[toinsert.length - 1].firstChild.textContent = bk_div.children[0].textContent\n      }\n      // store reference to server id on output_area\n      output_area._bokeh_server_id = output.metadata[EXEC_MIME_TYPE][\"server_id\"];\n    }\n  }\n\n  function register_renderer(events, OutputArea) {\n\n    function append_mime(data, metadata, element) {\n      // create a DOM node to render to\n      const toinsert = this.create_output_subarea(\n        metadata,\n        CLASS_NAME,\n        EXEC_MIME_TYPE\n      );\n      this.keyboard_manager.register_events(toinsert);\n      // Render to node\n      const props = {data: data, metadata: metadata[EXEC_MIME_TYPE]};\n      render(props, toinsert[toinsert.length - 1]);\n      element.append(toinsert);\n      return toinsert\n    }\n\n    /* Handle when an output is cleared or removed */\n    events.on('clear_output.CodeCell', handleClearOutput);\n    events.on('delete.Cell', handleClearOutput);\n\n    /* Handle when a new output is added */\n    events.on('output_added.OutputArea', handleAddOutput);\n\n    /**\n     * Register the mime type and append_mime function with output_area\n     */\n    OutputArea.prototype.register_mime_type(EXEC_MIME_TYPE, append_mime, {\n      /* Is output safe? */\n      safe: true,\n      /* Index of renderer in `output_area.display_order` */\n      index: 0\n    });\n  }\n\n  // register the mime type if in Jupyter Notebook environment and previously unregistered\n  if (root.Jupyter !== undefined) {\n    const events = require('base/js/events');\n    const OutputArea = require('notebook/js/outputarea').OutputArea;\n\n    if (OutputArea.prototype.mime_types().indexOf(EXEC_MIME_TYPE) == -1) {\n      register_renderer(events, OutputArea);\n    }\n  }\n  if (typeof (root._bokeh_timeout) === \"undefined\" || force === true) {\n    root._bokeh_timeout = Date.now() + 5000;\n    root._bokeh_failed_load = false;\n  }\n\n  const NB_LOAD_WARNING = {'data': {'text/html':\n     \"<div style='background-color: #fdd'>\\n\"+\n     \"<p>\\n\"+\n     \"BokehJS does not appear to have successfully loaded. If loading BokehJS from CDN, this \\n\"+\n     \"may be due to a slow or bad network connection. Possible fixes:\\n\"+\n     \"</p>\\n\"+\n     \"<ul>\\n\"+\n     \"<li>re-rerun `output_notebook()` to attempt to load from CDN again, or</li>\\n\"+\n     \"<li>use INLINE resources instead, as so:</li>\\n\"+\n     \"</ul>\\n\"+\n     \"<code>\\n\"+\n     \"from bokeh.resources import INLINE\\n\"+\n     \"output_notebook(resources=INLINE)\\n\"+\n     \"</code>\\n\"+\n     \"</div>\"}};\n\n  function display_loaded() {\n    const el = document.getElementById(\"bf7ae600-8e0d-4eec-83c6-324d7956ebff\");\n    if (el != null) {\n      el.textContent = \"BokehJS is loading...\";\n    }\n    if (root.Bokeh !== undefined) {\n      if (el != null) {\n        el.textContent = \"BokehJS \" + root.Bokeh.version + \" successfully loaded.\";\n      }\n    } else if (Date.now() < root._bokeh_timeout) {\n      setTimeout(display_loaded, 100)\n    }\n  }\n\n  function run_callbacks() {\n    try {\n      root._bokeh_onload_callbacks.forEach(function(callback) {\n        if (callback != null)\n          callback();\n      });\n    } finally {\n      delete root._bokeh_onload_callbacks\n    }\n    console.debug(\"Bokeh: all callbacks have finished\");\n  }\n\n  function load_libs(css_urls, js_urls, callback) {\n    if (css_urls == null) css_urls = [];\n    if (js_urls == null) js_urls = [];\n\n    root._bokeh_onload_callbacks.push(callback);\n    if (root._bokeh_is_loading > 0) {\n      console.debug(\"Bokeh: BokehJS is being loaded, scheduling callback at\", now());\n      return null;\n    }\n    if (js_urls == null || js_urls.length === 0) {\n      run_callbacks();\n      return null;\n    }\n    console.debug(\"Bokeh: BokehJS not loaded, scheduling load and callback at\", now());\n    root._bokeh_is_loading = css_urls.length + js_urls.length;\n\n    function on_load() {\n      root._bokeh_is_loading--;\n      if (root._bokeh_is_loading === 0) {\n        console.debug(\"Bokeh: all BokehJS libraries/stylesheets loaded\");\n        run_callbacks()\n      }\n    }\n\n    function on_error(url) {\n      console.error(\"failed to load \" + url);\n    }\n\n    for (let i = 0; i < css_urls.length; i++) {\n      const url = css_urls[i];\n      const element = document.createElement(\"link\");\n      element.onload = on_load;\n      element.onerror = on_error.bind(null, url);\n      element.rel = \"stylesheet\";\n      element.type = \"text/css\";\n      element.href = url;\n      console.debug(\"Bokeh: injecting link tag for BokehJS stylesheet: \", url);\n      document.body.appendChild(element);\n    }\n\n    for (let i = 0; i < js_urls.length; i++) {\n      const url = js_urls[i];\n      const element = document.createElement('script');\n      element.onload = on_load;\n      element.onerror = on_error.bind(null, url);\n      element.async = false;\n      element.src = url;\n      console.debug(\"Bokeh: injecting script tag for BokehJS library: \", url);\n      document.head.appendChild(element);\n    }\n  };\n\n  function inject_raw_css(css) {\n    const element = document.createElement(\"style\");\n    element.appendChild(document.createTextNode(css));\n    document.body.appendChild(element);\n  }\n\n  const js_urls = [\"https://cdn.bokeh.org/bokeh/release/bokeh-3.1.1.min.js\", \"https://cdn.bokeh.org/bokeh/release/bokeh-gl-3.1.1.min.js\", \"https://cdn.bokeh.org/bokeh/release/bokeh-widgets-3.1.1.min.js\", \"https://cdn.bokeh.org/bokeh/release/bokeh-tables-3.1.1.min.js\", \"https://cdn.bokeh.org/bokeh/release/bokeh-mathjax-3.1.1.min.js\"];\n  const css_urls = [];\n\n  const inline_js = [    function(Bokeh) {\n      Bokeh.set_log_level(\"info\");\n    },\nfunction(Bokeh) {\n    }\n  ];\n\n  function run_inline_js() {\n    if (root.Bokeh !== undefined || force === true) {\n          for (let i = 0; i < inline_js.length; i++) {\n      inline_js[i].call(root, root.Bokeh);\n    }\nif (force === true) {\n        display_loaded();\n      }} else if (Date.now() < root._bokeh_timeout) {\n      setTimeout(run_inline_js, 100);\n    } else if (!root._bokeh_failed_load) {\n      console.log(\"Bokeh: BokehJS failed to load within specified timeout.\");\n      root._bokeh_failed_load = true;\n    } else if (force !== true) {\n      const cell = $(document.getElementById(\"bf7ae600-8e0d-4eec-83c6-324d7956ebff\")).parents('.cell').data().cell;\n      cell.output_area.append_execute_result(NB_LOAD_WARNING)\n    }\n  }\n\n  if (root._bokeh_is_loading === 0) {\n    console.debug(\"Bokeh: BokehJS loaded, going straight to plotting\");\n    run_inline_js();\n  } else {\n    load_libs(css_urls, js_urls, function() {\n      console.debug(\"Bokeh: BokehJS plotting callback run at\", now());\n      run_inline_js();\n    });\n  }\n}(window));",
            "application/vnd.bokehjs_load.v0+json": ""
          },
          "metadata": {},
          "output_type": "display_data"
        }
      ],
      "source": [
        "from bokeh.io import output_notebook, show\n",
        "from bokeh.plotting import figure\n",
        "import pandas as pd\n",
        "output_notebook()"
      ]
    },
    {
      "cell_type": "code",
      "execution_count": 23,
      "metadata": {
        "id": "9R0Hpj24fyXE"
      },
      "outputs": [
        {
          "data": {
            "text/html": [
              "\n",
              "  <div id=\"edb1ab52-3f4b-4182-ad97-05b267882237\" data-root-id=\"p1007\" style=\"display: contents;\"></div>\n"
            ]
          },
          "metadata": {},
          "output_type": "display_data"
        },
        {
          "data": {
            "application/javascript": "(function(root) {\n  function embed_document(root) {\n  const docs_json = {\"45cab54a-07a1-4203-b29c-ae791283d750\":{\"version\":\"3.1.1\",\"title\":\"Bokeh Application\",\"defs\":[],\"roots\":[{\"type\":\"object\",\"name\":\"Figure\",\"id\":\"p1007\",\"attributes\":{\"width\":820,\"height\":400,\"x_range\":{\"type\":\"object\",\"name\":\"DataRange1d\",\"id\":\"p1009\"},\"y_range\":{\"type\":\"object\",\"name\":\"DataRange1d\",\"id\":\"p1008\"},\"x_scale\":{\"type\":\"object\",\"name\":\"LinearScale\",\"id\":\"p1021\"},\"y_scale\":{\"type\":\"object\",\"name\":\"LinearScale\",\"id\":\"p1023\"},\"title\":{\"type\":\"object\",\"name\":\"Title\",\"id\":\"p1010\",\"attributes\":{\"text\":\"Clusters de temperatura encontrados pelo m\\u00e9todo KMeans\",\"text_font_size\":\"18pt\"}},\"renderers\":[{\"type\":\"object\",\"name\":\"GlyphRenderer\",\"id\":\"p1096\",\"attributes\":{\"data_source\":{\"type\":\"object\",\"name\":\"ColumnDataSource\",\"id\":\"p1090\",\"attributes\":{\"selected\":{\"type\":\"object\",\"name\":\"Selection\",\"id\":\"p1091\",\"attributes\":{\"indices\":[],\"line_indices\":[]}},\"selection_policy\":{\"type\":\"object\",\"name\":\"UnionRenderers\",\"id\":\"p1092\"},\"data\":{\"type\":\"map\",\"entries\":[[\"x\",{\"type\":\"ndarray\",\"array\":{\"type\":\"bytes\",\"data\":\"AIAPdZ+LeEIAAI91n4t4QgCwGHafi3hCADCMdp+LeEIA4A13n4t4QgDwi3efi3hCAAAMeJ+LeEIAgI14n4t4QgAADnmfi3hCAICNeZ+LeEIAABp6n4t4QgAQjXqfi3hCAPALe5+LeEIAAI17n4t4QgBwDXyfi3hCAPCUfJ+LeEIAAA99n4t4QgCQjX2fi3hCABAKfp+LeEIAAJR+n4t4QgCQCn+fi3hCAACYf5+LeEIAgBOAn4t4QgCAkYCfi3hCAIAcgZ+LeEIA8IeBn4t4QgDwB4Kfi3hCAHCcgp+LeEIAAAeDn4t4QgCAiIOfi3hCAIAThJ+LeEIAIImEn4t4QgAAFoWfi3hCAMCKhZ+LeEIAkBGGn4t4QgDAiYafi3hCAAAUh5+LeEIAQIiHn4t4QgAQCYifi3hCAACLiJ+LeEIAEAeJn4t4QgAAjImfi3hCABAFip+LeEIAgIaKn4t4QgBwCIufi3hCAACRi5+LeEIAcAeMn4t4QgAAkYyfi3hCAIAGjZ+LeEIAAIaNn4t4QgCABY6fi3hCAHCCjp+LeEIAAAePn4t4QgCAhY+fi3hCABAQkJ+LeEIAAJaQn4t4QgAACpGfi3hCAACCkZ+LeEIAMAWSn4t4QgDgh5Kfi3hCAAAIk5+LeEIAgIeTn4t4QgCQEZSfi3hCAICBlJ+LeEIAEAGVn4t4QgCAmZWfi3hCAEAElp+LeEIAgJKWn4t4QgCAAZefi3hCAJCCl5+LeEIAkAGYn4t4QgCAhpifi3hCAIATmZ+LeEIAgIGZn4t4QgCA/pmfi3hCABCBmp+LeEIAAP6an4t4QgCAf5ufi3hCAAAInJ+LeEIAEH+cn4t4QgCA/pyfi3hCAICHnZ+LeEIAAAKen4t4QgCAhp6fi3hCAJAIn5+LeEIAgIWfn4t4QgBABKCfi3hCAJCEoJ+LeEIAgBChn4t4QgAghaGfi3hCAAABop+LeEIAgH2in4t4QgCAB6Ofi3hCAIB5o5+LeEIAgP+jn4t4QgCAeqSfi3hCAIAQpZ+LeEIAgImln4t4QgCw+aWfi3hCABB8pp+LeEIAgPamn4t4QgBweKefi3hCAAAHqJ+LeEIAEI2on4t4QgCA9Kifi3hCAAB4qZ+LeEIAgPepn4t4QgCAdaqfi3hCAJD2qp+LeEIAgHSrn4t4QgCA9qufi3hCAIB/rJ+LeEIAkP2sn4t4QgAAc62fi3hCAADyrZ+LeEIAAIiun4t4QgAQ9q6fi3hCAIBzr5+LeEIAEPWvn4t4QgCAc7Cfi3hCAADzsJ+LeEIAgIKxn4t4QgAA8bGfi3hCAPB0sp+LeEIAgPKyn4t4QgCAcLOfi3hCAAD1s5+LeEIAAG60n4t4QgAg8LSfi3hCABBwtZ+LeEIAIPG1n4t4QgAAjbafi3hCAIAJt5+LeEIAgJW3n4t4QgAA97efi3hCAABvuJ+LeEIAgO64n4t4QgCAa7mfi3hCABD+uZ+LeEIAAIC6n4t4QgCA7Lqfi3hCACBru5+LeEIAgPq7n4t4QgAAa7yfi3hCABDtvJ+LeEIAAGq9n4t4QgAA7L2fi3hCAJBrvp+LeEIAgPe+n4t4QgAAbb+fi3hCAID1v5+LeEIAgIHAn4t4QgDA6cCfi3hCAABwwZ+LeEIAAOjBn4t4QgAAaMKfi3hCAAAAw5+LeEIAIGnDn4t4QgCA6MOfi3hCAKBoxJ+LeEIAQPDEn4t4QgCAaMWfi3hCAAARxp+LeEIAAGbGn4t4QgCA9Mafi3hCAIB1x5+LeEIAgObHn4t4QgAAacifi3hCABD6yJ+LeEIAgGXJn4t4QgCQ5cmfi3hCAHBkyp+LeEIAgObKn4t4QgAAZcufi3hCAIAXzJ+LeEIAAIPMn4t4QgAA+cyfi3hCAHBmzZ+LeEIAcPzNn4t4QgDwYs6fi3hCAIDizp+LeEIAAGfPn4t4QgCQBNCfi3hCAIB30J+LeEIAgO/Qn4t4Qg==\"},\"shape\":[185],\"dtype\":\"float64\",\"order\":\"little\"}],[\"y\",{\"type\":\"ndarray\",\"array\":{\"type\":\"bytes\",\"data\":\"iKPlHwEqKkCIo+UfASoqQDAKBgBcASlAG0/8/9W2KEAbT/z/1bYoQBtP/P/VtihAiKPlHwEqKkCIo+UfASoqQBtP/P/VtihAG0/8/9W2KEAbT/z/1bYoQIij5R8BKipAG0/8/9W2KEAbT/z/1bYoQIij5R8BKipAiCXtX7xLKUAwCgYAXAEpQIij5R8BKipAiKPlHwEqKkCIo+UfASoqQIij5R8BKipAMAoGAFwBKUAwCgYAXAEpQDAKBgBcASlAiCXtX7xLKUCIo+UfASoqQIij5R8BKipAiKPlHwEqKkB7ZNb/95UpQIij5R8BKipAG0/8/9W2KECX3RfAKWwoQDAKBgBcASlA81bhvw7gKUCIJe1fvEspQHtk1v/3lSlAe2TW//eVKUB7ZNb/95UpQHtk1v/3lSlAiKPlHwEqKkAwCgYAXAEpQIgl7V+8SylAMAoGAFwBKUAbT/z/1bYoQBtP/P/VtihAG0/8/9W2KEAbT/z/1bYoQHa03F9e1idAl90XwClsKECIo+UfASoqQIij5R8BKipAiKPlHwEqKkCIo+UfASoqQBtP/P/VtihAG0/8/9W2KEAbT/z/1bYoQBtP/P/VtihAG0/8/9W2KEAbT/z/1bYoQBtP/P/VtihAG0/8/9W2KEAbT/z/1bYoQDAKBgBcASlAMAoGAFwBKUCIo+UfASoqQBtP/P/VtihAG0/8/9W2KEAwCgYAXAEpQBtP/P/VtihAG0/8/9W2KEAbT/z/1bYoQIij5R8BKipAiKPlHwEqKkCIo+UfASoqQIij5R8BKipAiKPlHwEqKkBsgwtgZ1ArQJ5xCsB5Ti1AgagkgNWWLUA2DBegCrcuQAaACWDzjS9ABoAJYPONL0ArnRdAW9UvQCudF0Bb1S9AxN3uH+oxMEC/bPHfclUwQL9s8d9yVTBAA3UMwO14MEADdQzA7XgwQAN1DMDteDBAA3UMwO14MEADdQzA7XgwQAN1DMDteDBAK50XQFvVL0AGgAlg840vQAM2EGDL/i5ANgwXoAq3LkDwiuB/K28uQDy4AcAtJy5AgagkgNWWLUCBqCSA1ZYtQJ5xCsB5Ti1AnnEKwHlOLUCiz+xf/gUtQDST+1+mdCxAajUD4MgrLEBqNQPgyCssQJMCC2DK4itAbIMLYGdQK0BsgwtgZ1ArQGyDC2BnUCtAiKPlHwEqKkCIo+UfASoqQIij5R8BKipAF8oVIAIHK0CIo+UfASoqQIij5R8BKipAiKPlHwEqKkCIo+UfASoqQIij5R8BKipAiKPlHwEqKkCIo+UfASoqQIij5R8BKipAiKPlHwEqKkCIo+UfASoqQIij5R8BKipAiKPlHwEqKkCIo+UfASoqQIij5R8BKipAiKPlHwEqKkCIo+UfASoqQIij5R8BKipAiKPlHwEqKkCIo+UfASoqQIij5R8BKipAiCXtX7xLKUAwCgYAXAEpQIgl7V+8SylAiCXtX7xLKUAbT/z/1bYoQDAKBgBcASlAMAoGAFwBKUCIJe1fvEspQIij5R8BKipAiCXtX7xLKUCIo+UfASoqQPNW4b8O4ClA81bhvw7gKUDzVuG/DuApQIij5R8BKipAe2TW//eVKUAwCgYAXAEpQIij5R8BKipAiKPlHwEqKkAwCgYAXAEpQGo1A+DIKyxAnnEKwHlOLUDTAPefqZkrQGo1A+DIKyxAajUD4MgrLEBqNQPgyCssQGyDC2BnUCtAbIMLYGdQK0BsgwtgZ1ArQGyDC2BnUCtAiKPlHwEqKkBsgwtgZ1ArQMCA2n/PcypAbIMLYGdQK0CIo+UfASoqQGyDC2BnUCtAbIMLYGdQK0BsgwtgZ1ArQGyDC2BnUCtAbIMLYGdQK0AXyhUgAgcrQIij5R8BKipAwIDaf89zKkDzVuG/DuApQIgl7V+8SylAiKPlHwEqKkCIo+UfASoqQIij5R8BKipAG0/8/9W2KEDzVuG/DuApQA==\"},\"shape\":[185],\"dtype\":\"float64\",\"order\":\"little\"}]]}}},\"view\":{\"type\":\"object\",\"name\":\"CDSView\",\"id\":\"p1097\",\"attributes\":{\"filter\":{\"type\":\"object\",\"name\":\"AllIndices\",\"id\":\"p1098\"}}},\"glyph\":{\"type\":\"object\",\"name\":\"Line\",\"id\":\"p1093\",\"attributes\":{\"x\":{\"type\":\"field\",\"field\":\"x\"},\"y\":{\"type\":\"field\",\"field\":\"y\"},\"line_color\":\"#1f77b4\",\"line_width\":2}},\"nonselection_glyph\":{\"type\":\"object\",\"name\":\"Line\",\"id\":\"p1094\",\"attributes\":{\"x\":{\"type\":\"field\",\"field\":\"x\"},\"y\":{\"type\":\"field\",\"field\":\"y\"},\"line_color\":\"#1f77b4\",\"line_alpha\":0.1,\"line_width\":2}},\"muted_glyph\":{\"type\":\"object\",\"name\":\"Line\",\"id\":\"p1095\",\"attributes\":{\"x\":{\"type\":\"field\",\"field\":\"x\"},\"y\":{\"type\":\"field\",\"field\":\"y\"},\"line_color\":\"#1f77b4\",\"line_alpha\":0.2,\"line_width\":2}}}},{\"type\":\"object\",\"name\":\"GlyphRenderer\",\"id\":\"p1105\",\"attributes\":{\"data_source\":{\"type\":\"object\",\"name\":\"ColumnDataSource\",\"id\":\"p1099\",\"attributes\":{\"selected\":{\"type\":\"object\",\"name\":\"Selection\",\"id\":\"p1100\",\"attributes\":{\"indices\":[],\"line_indices\":[]}},\"selection_policy\":{\"type\":\"object\",\"name\":\"UnionRenderers\",\"id\":\"p1101\"},\"data\":{\"type\":\"map\",\"entries\":[[\"x\",{\"type\":\"ndarray\",\"array\":{\"type\":\"bytes\",\"data\":\"AIAPdZ+LeEIAAI91n4t4QgCwGHafi3hCADCMdp+LeEIA4A13n4t4QgDwi3efi3hCAAAMeJ+LeEIAgI14n4t4QgAADnmfi3hCAICNeZ+LeEIAABp6n4t4QgAQjXqfi3hCAPALe5+LeEIAAI17n4t4QgBwDXyfi3hCAPCUfJ+LeEIAAA99n4t4QgCQjX2fi3hCABAKfp+LeEIAAJR+n4t4QgCQCn+fi3hCAACYf5+LeEIAgBOAn4t4QgCAkYCfi3hCAIAcgZ+LeEIA8IeBn4t4QgDwB4Kfi3hCAHCcgp+LeEIAAAeDn4t4QgCAiIOfi3hCAIAThJ+LeEIAIImEn4t4QgAAFoWfi3hCAMCKhZ+LeEIAkBGGn4t4QgDAiYafi3hCAAAUh5+LeEIAQIiHn4t4QgAQCYifi3hCAACLiJ+LeEIAEAeJn4t4QgAAjImfi3hCABAFip+LeEIAgIaKn4t4QgBwCIufi3hCAACRi5+LeEIAcAeMn4t4QgAAkYyfi3hCAIAGjZ+LeEIAAIaNn4t4QgCABY6fi3hCAHCCjp+LeEIAAAePn4t4QgCAhY+fi3hCABAQkJ+LeEIAAJaQn4t4QgAACpGfi3hCAACCkZ+LeEIAMAWSn4t4QgDgh5Kfi3hCAAAIk5+LeEIAgIeTn4t4QgCQEZSfi3hCAICBlJ+LeEIAEAGVn4t4QgCAmZWfi3hCAEAElp+LeEIAgJKWn4t4QgCAAZefi3hCAJCCl5+LeEIAkAGYn4t4QgCAhpifi3hCAIATmZ+LeEIAgIGZn4t4QgCA/pmfi3hCABCBmp+LeEIAAP6an4t4QgCAf5ufi3hCAAAInJ+LeEIAEH+cn4t4QgCA/pyfi3hCAICHnZ+LeEIAAAKen4t4QgCAhp6fi3hCAJAIn5+LeEIAgIWfn4t4QgBABKCfi3hCAJCEoJ+LeEIAgBChn4t4QgAghaGfi3hCAAABop+LeEIAgH2in4t4QgCAB6Ofi3hCAIB5o5+LeEIAgP+jn4t4QgCAeqSfi3hCAIAQpZ+LeEIAgImln4t4QgCw+aWfi3hCABB8pp+LeEIAgPamn4t4QgBweKefi3hCAAAHqJ+LeEIAEI2on4t4QgCA9Kifi3hCAAB4qZ+LeEIAgPepn4t4QgCAdaqfi3hCAJD2qp+LeEIAgHSrn4t4QgCA9qufi3hCAIB/rJ+LeEIAkP2sn4t4QgAAc62fi3hCAADyrZ+LeEIAAIiun4t4QgAQ9q6fi3hCAIBzr5+LeEIAEPWvn4t4QgCAc7Cfi3hCAADzsJ+LeEIAgIKxn4t4QgAA8bGfi3hCAPB0sp+LeEIAgPKyn4t4QgCAcLOfi3hCAAD1s5+LeEIAAG60n4t4QgAg8LSfi3hCABBwtZ+LeEIAIPG1n4t4QgAAjbafi3hCAIAJt5+LeEIAgJW3n4t4QgAA97efi3hCAABvuJ+LeEIAgO64n4t4QgCAa7mfi3hCABD+uZ+LeEIAAIC6n4t4QgCA7Lqfi3hCACBru5+LeEIAgPq7n4t4QgAAa7yfi3hCABDtvJ+LeEIAAGq9n4t4QgAA7L2fi3hCAJBrvp+LeEIAgPe+n4t4QgAAbb+fi3hCAID1v5+LeEIAgIHAn4t4QgDA6cCfi3hCAABwwZ+LeEIAAOjBn4t4QgAAaMKfi3hCAAAAw5+LeEIAIGnDn4t4QgCA6MOfi3hCAKBoxJ+LeEIAQPDEn4t4QgCAaMWfi3hCAAARxp+LeEIAAGbGn4t4QgCA9Mafi3hCAIB1x5+LeEIAgObHn4t4QgAAacifi3hCABD6yJ+LeEIAgGXJn4t4QgCQ5cmfi3hCAHBkyp+LeEIAgObKn4t4QgAAZcufi3hCAIAXzJ+LeEIAAIPMn4t4QgAA+cyfi3hCAHBmzZ+LeEIAcPzNn4t4QgDwYs6fi3hCAIDizp+LeEIAAGfPn4t4QgCQBNCfi3hCAIB30J+LeEIAgO/Qn4t4Qg==\"},\"shape\":[185],\"dtype\":\"float64\",\"order\":\"little\"}],[\"y\",{\"type\":\"ndarray\",\"array\":{\"type\":\"bytes\",\"data\":\"iKPlHwEqKkCIo+UfASoqQDAKBgBcASlAG0/8/9W2KEAbT/z/1bYoQBtP/P/VtihAiKPlHwEqKkCIo+UfASoqQBtP/P/VtihAG0/8/9W2KEAbT/z/1bYoQIij5R8BKipAG0/8/9W2KEAbT/z/1bYoQIij5R8BKipAiCXtX7xLKUAwCgYAXAEpQIij5R8BKipAiKPlHwEqKkCIo+UfASoqQIij5R8BKipAMAoGAFwBKUAwCgYAXAEpQDAKBgBcASlAiCXtX7xLKUCIo+UfASoqQIij5R8BKipAiKPlHwEqKkB7ZNb/95UpQIij5R8BKipAG0/8/9W2KECX3RfAKWwoQDAKBgBcASlA81bhvw7gKUCIJe1fvEspQHtk1v/3lSlAe2TW//eVKUB7ZNb/95UpQHtk1v/3lSlAiKPlHwEqKkAwCgYAXAEpQIgl7V+8SylAMAoGAFwBKUAbT/z/1bYoQBtP/P/VtihAG0/8/9W2KEAbT/z/1bYoQHa03F9e1idAl90XwClsKECIo+UfASoqQIij5R8BKipAiKPlHwEqKkCIo+UfASoqQBtP/P/VtihAG0/8/9W2KEAbT/z/1bYoQBtP/P/VtihAG0/8/9W2KEAbT/z/1bYoQBtP/P/VtihAG0/8/9W2KEAbT/z/1bYoQDAKBgBcASlAMAoGAFwBKUCIo+UfASoqQBtP/P/VtihAG0/8/9W2KEAwCgYAXAEpQBtP/P/VtihAG0/8/9W2KEAbT/z/1bYoQIij5R8BKipAiKPlHwEqKkCIo+UfASoqQIij5R8BKipAiKPlHwEqKkBsgwtgZ1ArQHa03F9e1idAdrTcX17WJ0B2tNxfXtYnQHa03F9e1idAdrTcX17WJ0B2tNxfXtYnQHa03F9e1idAdrTcX17WJ0B2tNxfXtYnQHa03F9e1idAdrTcX17WJ0B2tNxfXtYnQHa03F9e1idAdrTcX17WJ0B2tNxfXtYnQHa03F9e1idAdrTcX17WJ0B2tNxfXtYnQHa03F9e1idAdrTcX17WJ0B2tNxfXtYnQHa03F9e1idAdrTcX17WJ0B2tNxfXtYnQHa03F9e1idAdrTcX17WJ0B2tNxfXtYnQDST+1+mdCxAajUD4MgrLEBqNQPgyCssQJMCC2DK4itAbIMLYGdQK0BsgwtgZ1ArQGyDC2BnUCtAiKPlHwEqKkCIo+UfASoqQIij5R8BKipAF8oVIAIHK0CIo+UfASoqQIij5R8BKipAiKPlHwEqKkCIo+UfASoqQIij5R8BKipAiKPlHwEqKkCIo+UfASoqQIij5R8BKipAiKPlHwEqKkCIo+UfASoqQIij5R8BKipAiKPlHwEqKkCIo+UfASoqQIij5R8BKipAiKPlHwEqKkCIo+UfASoqQIij5R8BKipAiKPlHwEqKkCIo+UfASoqQIij5R8BKipAiCXtX7xLKUAwCgYAXAEpQIgl7V+8SylAiCXtX7xLKUAbT/z/1bYoQDAKBgBcASlAMAoGAFwBKUCIJe1fvEspQIij5R8BKipAiCXtX7xLKUCIo+UfASoqQPNW4b8O4ClA81bhvw7gKUDzVuG/DuApQIij5R8BKipAe2TW//eVKUAwCgYAXAEpQIij5R8BKipAiKPlHwEqKkAwCgYAXAEpQGo1A+DIKyxAdrTcX17WJ0DTAPefqZkrQGo1A+DIKyxAajUD4MgrLEBqNQPgyCssQGyDC2BnUCtAbIMLYGdQK0BsgwtgZ1ArQGyDC2BnUCtAiKPlHwEqKkBsgwtgZ1ArQMCA2n/PcypAbIMLYGdQK0CIo+UfASoqQGyDC2BnUCtAbIMLYGdQK0BsgwtgZ1ArQGyDC2BnUCtAbIMLYGdQK0AXyhUgAgcrQIij5R8BKipAwIDaf89zKkDzVuG/DuApQIgl7V+8SylAiKPlHwEqKkCIo+UfASoqQIij5R8BKipAG0/8/9W2KEDzVuG/DuApQA==\"},\"shape\":[185],\"dtype\":\"float64\",\"order\":\"little\"}]]}}},\"view\":{\"type\":\"object\",\"name\":\"CDSView\",\"id\":\"p1106\",\"attributes\":{\"filter\":{\"type\":\"object\",\"name\":\"AllIndices\",\"id\":\"p1107\"}}},\"glyph\":{\"type\":\"object\",\"name\":\"Patch\",\"id\":\"p1102\",\"attributes\":{\"x\":{\"type\":\"field\",\"field\":\"x\"},\"y\":{\"type\":\"field\",\"field\":\"y\"},\"line_color\":\"red\",\"line_alpha\":0.5,\"line_width\":0,\"fill_color\":\"red\",\"fill_alpha\":0.5,\"hatch_color\":\"red\",\"hatch_alpha\":0.5}},\"nonselection_glyph\":{\"type\":\"object\",\"name\":\"Patch\",\"id\":\"p1103\",\"attributes\":{\"x\":{\"type\":\"field\",\"field\":\"x\"},\"y\":{\"type\":\"field\",\"field\":\"y\"},\"line_color\":\"red\",\"line_alpha\":0.1,\"line_width\":0,\"fill_color\":\"red\",\"fill_alpha\":0.1,\"hatch_color\":\"red\",\"hatch_alpha\":0.1}},\"muted_glyph\":{\"type\":\"object\",\"name\":\"Patch\",\"id\":\"p1104\",\"attributes\":{\"x\":{\"type\":\"field\",\"field\":\"x\"},\"y\":{\"type\":\"field\",\"field\":\"y\"},\"line_color\":\"red\",\"line_alpha\":0.2,\"line_width\":0,\"fill_color\":\"red\",\"fill_alpha\":0.2,\"hatch_color\":\"red\",\"hatch_alpha\":0.2}}}}],\"toolbar\":{\"type\":\"object\",\"name\":\"Toolbar\",\"id\":\"p1014\",\"attributes\":{\"tools\":[{\"type\":\"object\",\"name\":\"PanTool\",\"id\":\"p1075\"},{\"type\":\"object\",\"name\":\"WheelZoomTool\",\"id\":\"p1076\"},{\"type\":\"object\",\"name\":\"BoxZoomTool\",\"id\":\"p1077\",\"attributes\":{\"overlay\":{\"type\":\"object\",\"name\":\"BoxAnnotation\",\"id\":\"p1078\",\"attributes\":{\"syncable\":false,\"level\":\"overlay\",\"visible\":false,\"left_units\":\"canvas\",\"right_units\":\"canvas\",\"bottom_units\":\"canvas\",\"top_units\":\"canvas\",\"line_color\":\"black\",\"line_alpha\":1.0,\"line_width\":2,\"line_dash\":[4,4],\"fill_color\":\"lightgrey\",\"fill_alpha\":0.5}}}},{\"type\":\"object\",\"name\":\"SaveTool\",\"id\":\"p1079\"},{\"type\":\"object\",\"name\":\"ResetTool\",\"id\":\"p1080\"},{\"type\":\"object\",\"name\":\"HelpTool\",\"id\":\"p1081\"}]}},\"left\":[{\"type\":\"object\",\"name\":\"LinearAxis\",\"id\":\"p1068\",\"attributes\":{\"ticker\":{\"type\":\"object\",\"name\":\"BasicTicker\",\"id\":\"p1069\",\"attributes\":{\"mantissas\":[1,2,5]}},\"formatter\":{\"type\":\"object\",\"name\":\"BasicTickFormatter\",\"id\":\"p1070\"},\"axis_label\":\"Temperatura [Celsius]\",\"axis_label_text_font_size\":\"14pt\",\"major_label_policy\":{\"type\":\"object\",\"name\":\"AllLabels\",\"id\":\"p1071\"}}}],\"below\":[{\"type\":\"object\",\"name\":\"DatetimeAxis\",\"id\":\"p1025\",\"attributes\":{\"ticker\":{\"type\":\"object\",\"name\":\"DatetimeTicker\",\"id\":\"p1026\",\"attributes\":{\"num_minor_ticks\":5,\"tickers\":[{\"type\":\"object\",\"name\":\"AdaptiveTicker\",\"id\":\"p1027\",\"attributes\":{\"num_minor_ticks\":0,\"mantissas\":[1,2,5],\"max_interval\":500.0}},{\"type\":\"object\",\"name\":\"AdaptiveTicker\",\"id\":\"p1028\",\"attributes\":{\"num_minor_ticks\":0,\"base\":60,\"mantissas\":[1,2,5,10,15,20,30],\"min_interval\":1000.0,\"max_interval\":1800000.0}},{\"type\":\"object\",\"name\":\"AdaptiveTicker\",\"id\":\"p1029\",\"attributes\":{\"num_minor_ticks\":0,\"base\":24,\"mantissas\":[1,2,4,6,8,12],\"min_interval\":3600000.0,\"max_interval\":43200000.0}},{\"type\":\"object\",\"name\":\"DaysTicker\",\"id\":\"p1030\",\"attributes\":{\"days\":[1,2,3,4,5,6,7,8,9,10,11,12,13,14,15,16,17,18,19,20,21,22,23,24,25,26,27,28,29,30,31]}},{\"type\":\"object\",\"name\":\"DaysTicker\",\"id\":\"p1031\",\"attributes\":{\"days\":[1,4,7,10,13,16,19,22,25,28]}},{\"type\":\"object\",\"name\":\"DaysTicker\",\"id\":\"p1032\",\"attributes\":{\"days\":[1,8,15,22]}},{\"type\":\"object\",\"name\":\"DaysTicker\",\"id\":\"p1033\",\"attributes\":{\"days\":[1,15]}},{\"type\":\"object\",\"name\":\"MonthsTicker\",\"id\":\"p1034\",\"attributes\":{\"months\":[0,1,2,3,4,5,6,7,8,9,10,11]}},{\"type\":\"object\",\"name\":\"MonthsTicker\",\"id\":\"p1035\",\"attributes\":{\"months\":[0,2,4,6,8,10]}},{\"type\":\"object\",\"name\":\"MonthsTicker\",\"id\":\"p1036\",\"attributes\":{\"months\":[0,4,8]}},{\"type\":\"object\",\"name\":\"MonthsTicker\",\"id\":\"p1037\",\"attributes\":{\"months\":[0,6]}},{\"type\":\"object\",\"name\":\"YearsTicker\",\"id\":\"p1038\"}]}},\"formatter\":{\"type\":\"object\",\"name\":\"DatetimeTickFormatter\",\"id\":\"p1039\"},\"axis_label\":\"Tempo\",\"axis_label_text_font_size\":\"14pt\",\"major_label_policy\":{\"type\":\"object\",\"name\":\"AllLabels\",\"id\":\"p1040\"}}}],\"center\":[{\"type\":\"object\",\"name\":\"Grid\",\"id\":\"p1067\",\"attributes\":{\"axis\":{\"id\":\"p1025\"}}},{\"type\":\"object\",\"name\":\"Grid\",\"id\":\"p1074\",\"attributes\":{\"dimension\":1,\"axis\":{\"id\":\"p1068\"}}}]}}],\"callbacks\":{\"type\":\"map\"}}};\n  const render_items = [{\"docid\":\"45cab54a-07a1-4203-b29c-ae791283d750\",\"roots\":{\"p1007\":\"edb1ab52-3f4b-4182-ad97-05b267882237\"},\"root_ids\":[\"p1007\"]}];\n  root.Bokeh.embed.embed_items_notebook(docs_json, render_items);\n  }\n  if (root.Bokeh !== undefined) {\n    embed_document(root);\n  } else {\n    let attempts = 0;\n    const timer = setInterval(function(root) {\n      if (root.Bokeh !== undefined) {\n        clearInterval(timer);\n        embed_document(root);\n      } else {\n        attempts++;\n        if (attempts > 100) {\n          clearInterval(timer);\n          console.log(\"Bokeh: ERROR: Unable to run BokehJS code because BokehJS library is missing\");\n        }\n      }\n    }, 10, root)\n  }\n})(window);",
            "application/vnd.bokehjs_exec.v0+json": ""
          },
          "metadata": {
            "application/vnd.bokehjs_exec.v0+json": {
              "id": "p1007"
            }
          },
          "output_type": "display_data"
        }
      ],
      "source": [
        "p = figure(width=820, height=400, x_axis_type=\"datetime\",\n",
        "           title=\"Clusters de temperatura encontrados pelo método KMeans\",\n",
        "           x_axis_label='Tempo',\n",
        "           y_axis_label='Temperatura [Celsius]')\n",
        "\n",
        "p.title.text_font_size = '18pt'\n",
        "p.xaxis.axis_label_text_font_size = \"14pt\"\n",
        "p.yaxis.axis_label_text_font_size = \"14pt\"\n",
        "\n",
        "x = np.array(pd.to_datetime(stats_df.index))\n",
        "y = np.array(stats_df['payload.value'])\n",
        "n_y = np.multiply(np.array(stats_df['payload.value']),predictions)\n",
        "n_y = np.clip(n_y,np.min(y),np.max(y))\n",
        "\n",
        "# add a line renderer\n",
        "p.line(x, y, line_width=2)\n",
        "p.patch(x,n_y,color=\"red\",alpha = 0.5,line_width=0)\n",
        "\n",
        "show(p) # show the results"
      ]
    },
    {
      "attachments": {},
      "cell_type": "markdown",
      "metadata": {
        "id": "yVaLqbzXFRXi"
      },
      "source": [
        "##**Pergunta 4: Como você interpreta esse gráfico? Ele representa bem o experimento?**"
      ]
    },
    {
      "attachments": {},
      "cell_type": "markdown",
      "metadata": {
        "id": "d7VFQ_DpFcR0"
      },
      "source": [
        "Ele demonstra como os dados estão separados em 2 clusters, um deles representando as temperaturas enquanto o termistor estava sendo segurado e outro quando ele não estava sendo segurado"
      ]
    },
    {
      "attachments": {},
      "cell_type": "markdown",
      "metadata": {
        "id": "1g4Hs5EgfyXE"
      },
      "source": [
        "Observe que em momento algum você precisou escolher um threshold para a divisão entre os clusters de temperatura. Muito embora esses dados representem coisas muito bem conhecidas, elas poderiam representar situações de trabalho diferentes em uma máquina, por exemplo."
      ]
    },
    {
      "attachments": {},
      "cell_type": "markdown",
      "metadata": {
        "id": "ZVOHgyuQfyXE"
      },
      "source": [
        "##**Pergunta 5: Quais as vantagens e desvantagens do uso de protocolos de comunicação de alto nível? (Dica: consegue estimar o tráfego de dados gerado pelos 43 dispositivos durante 1 hora de aula?)**"
      ]
    },
    {
      "attachments": {},
      "cell_type": "markdown",
      "metadata": {
        "id": "nZ_3ew0FF52f"
      },
      "source": [
        "Ele permite abstrair a comunicação entre os dispositivos, mascarando complexidades da implementação. Porém, ele diminui o controle sobre quais mensagens estão sendo transmitidas em níveis mais baixos (é difícil estimar o tráfego de dados, principalmente se considerarmos mensagens de controle do protocolo Wi-fi)."
      ]
    },
    {
      "attachments": {},
      "cell_type": "markdown",
      "metadata": {
        "id": "Pg423T4bF9gQ"
      },
      "source": [
        "##**Pergunta 6: Cite uma situação real na qual esse método testado poderia ser aplicado.**"
      ]
    },
    {
      "attachments": {},
      "cell_type": "markdown",
      "metadata": {
        "id": "H09dHOOFF80Q"
      },
      "source": [
        "Controlar a temperatura de fornos em uma linha de produção de aço; ou controlar os condicionadores de ar do IC 3, tentando manter todas as salas na mesma temperatura."
      ]
    },
    {
      "attachments": {},
      "cell_type": "markdown",
      "metadata": {
        "id": "Ilu6l2i7F8ig"
      },
      "source": [
        "##**Pergunta 7: O que é uma plataforma de IoT e o que você aprendeu com esse experimento?**"
      ]
    },
    {
      "attachments": {},
      "cell_type": "markdown",
      "metadata": {
        "id": "KwTYpeIOF8QA"
      },
      "source": [
        "Uma plataforma de IoT é um plataforma capaz de agregar, tratar dados, armazenar e disponibilizar dados de diferentes dispositivos, abstraindo a comunicação entre eles e fornecendo diferentes serviços. \n",
        "\n",
        "Aprendemos neste experimento um pouco mais sobre dispositivos IoT, e como utilizar a plataforma da Konker, enviando e receber dados via APIs."
      ]
    }
  ],
  "metadata": {
    "colab": {
      "name": " Guia para aula experimental - MC833 - Termistor.ipynb",
      "provenance": []
    },
    "kernelspec": {
      "display_name": "Python 3",
      "language": "python",
      "name": "python3"
    },
    "language_info": {
      "codemirror_mode": {
        "name": "ipython",
        "version": 3
      },
      "file_extension": ".py",
      "mimetype": "text/x-python",
      "name": "python",
      "nbconvert_exporter": "python",
      "pygments_lexer": "ipython3",
      "version": "3.9.13"
    }
  },
  "nbformat": 4,
  "nbformat_minor": 0
}
